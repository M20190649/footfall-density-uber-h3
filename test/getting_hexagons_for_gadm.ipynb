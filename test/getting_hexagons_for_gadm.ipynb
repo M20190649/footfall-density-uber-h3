{
 "cells": [
  {
   "cell_type": "code",
   "execution_count": 352,
   "metadata": {},
   "outputs": [],
   "source": [
    "# import libraries\n",
    "from h3 import h3\n",
    "import geopandas as gpd\n",
    "import pandas as pd\n",
    "import numpy as np"
   ]
  },
  {
   "cell_type": "code",
   "execution_count": 374,
   "metadata": {},
   "outputs": [],
   "source": [
    "from multiprocessing import Pool\n",
    "from multiprocessing import cpu_count\n",
    "nCORES = cpu_count()"
   ]
  },
  {
   "cell_type": "code",
   "execution_count": 375,
   "metadata": {},
   "outputs": [],
   "source": [
    "import time"
   ]
  },
  {
   "cell_type": "markdown",
   "metadata": {},
   "source": [
    "For boundaries data we will use GADM boundaries from\n",
    "https://gadm.org/"
   ]
  },
  {
   "cell_type": "code",
   "execution_count": 366,
   "metadata": {},
   "outputs": [],
   "source": [
    "SHP_PATH = 'data/gadm36_levels_shp/gadm36_2.shp'\n",
    "gdf = gpd.read_file(SHP_PATH)"
   ]
  },
  {
   "cell_type": "code",
   "execution_count": 367,
   "metadata": {},
   "outputs": [],
   "source": [
    "# pick the country you want to get the hexagons\n",
    "COUNTRY = 'GBR'\n",
    "APERTURE_SIZE = 9\n",
    "# get only the columns of the unique id and geometry\n",
    "COL_ID = 'GID_2'\n",
    "COL_GEOM = 'geometry'\n",
    "# number of cores to use\n",
    "CORES = int(nCORES/1)"
   ]
  },
  {
   "cell_type": "code",
   "execution_count": 368,
   "metadata": {},
   "outputs": [],
   "source": [
    "gdf1 = gdf[gdf.GID_0==COUNTRY]\n",
    "gdf1 = gdf1[[COL_ID, COL_GEOM]]"
   ]
  },
  {
   "cell_type": "code",
   "execution_count": 369,
   "metadata": {},
   "outputs": [],
   "source": [
    "def get_hexagons_from_gdf(gdf):\n",
    "    # convert the multipolygons to polygons by our custom explode function\n",
    "    polygonOnly_gdf1 = good_explode(gdf)\n",
    "    polygonOnly_gdf1['hex_list_before'] = polygonOnly_gdf1[COL_GEOM].apply(lambda x : get_hexagons_fromJson(x.__geo_interface__))\n",
    "    polygonOnly_gdf1_group = polygonOnly_gdf1.groupby(COL_ID)\n",
    "    # count the sum of hexagons in each unique id\n",
    "    final_df = pd.DataFrame(polygonOnly_gdf1_group.apply(lambda grp: grp['hex_list_before'].sum()))\n",
    "    # reset the index and rename the 0 column\n",
    "    final_df.reset_index(inplace=True)\n",
    "    final_df.rename(columns={0:'hex_list'},inplace=True)\n",
    "    # count again the final number of hexagons for each unique id\n",
    "    final_df['hex_list_length'] = final_df['hex_list'].apply(lambda x : len(x))\n",
    "    return final_df"
   ]
  },
  {
   "cell_type": "code",
   "execution_count": 370,
   "metadata": {},
   "outputs": [],
   "source": [
    "gdf1_split = np.array_split(gdf1, CORES)"
   ]
  },
  {
   "cell_type": "code",
   "execution_count": 376,
   "metadata": {},
   "outputs": [],
   "source": [
    "with Pool(processes=CORES) as pool1:\n",
    "    start = time.time()\n",
    "    new_df = pd.concat(pool1.map(get_hexagons_from_gdf, gdf1_split))\n",
    "    end = round(time.time() - start, 3)"
   ]
  },
  {
   "cell_type": "code",
   "execution_count": 379,
   "metadata": {},
   "outputs": [
    {
     "data": {
      "text/plain": [
       "3.9294333333333333"
      ]
     },
     "execution_count": 379,
     "metadata": {},
     "output_type": "execute_result"
    }
   ],
   "source": [
    "end/60"
   ]
  },
  {
   "cell_type": "code",
   "execution_count": 355,
   "metadata": {},
   "outputs": [],
   "source": [
    "# get_hexagons_from_gdf(gdf)"
   ]
  },
  {
   "cell_type": "markdown",
   "metadata": {},
   "source": [
    "step by step the get_hexagons_from_gdf function"
   ]
  },
  {
   "cell_type": "code",
   "execution_count": 324,
   "metadata": {},
   "outputs": [],
   "source": [
    "gdf1 = gdf[gdf.GID_0==COUNTRY].head(50)\n",
    "gdf1 = gdf1[[COL_ID, COL_GEOM]]"
   ]
  },
  {
   "cell_type": "code",
   "execution_count": 326,
   "metadata": {},
   "outputs": [],
   "source": [
    "# convert the multipolygons to polygons by our custom explode function\n",
    "polygonOnly_gdf1 = good_explode(gdf1)"
   ]
  },
  {
   "cell_type": "code",
   "execution_count": 330,
   "metadata": {},
   "outputs": [],
   "source": [
    "# get a hexggon list from each polygon by our get_hexagons_fromJson function\n",
    "#polygonOnly_gdf1['geom_type'] = polygonOnly_gdf1['geometry'].apply(lambda x : x.geom_type)\n",
    "polygonOnly_gdf1['hex_list_before'] = polygonOnly_gdf1[COL_GEOM].apply(lambda x : get_hexagons_fromJson(x.__geo_interface__))"
   ]
  },
  {
   "cell_type": "code",
   "execution_count": 328,
   "metadata": {},
   "outputs": [],
   "source": [
    "# check the number of hexagons found before the grouped dataframe\n",
    "#polygonOnly_gdf1['hex_list_before_length'] = polygonOnly_gdf1['hex_list_before'].apply(lambda x: len(x))"
   ]
  },
  {
   "cell_type": "code",
   "execution_count": 329,
   "metadata": {},
   "outputs": [],
   "source": [
    "# create a group object by the unique id\n",
    "polygonOnly_gdf1_group = polygonOnly_gdf1.groupby(COL_ID)"
   ]
  },
  {
   "cell_type": "code",
   "execution_count": 333,
   "metadata": {},
   "outputs": [],
   "source": [
    "# count the sum of hexagons in each unique id\n",
    "final_df = pd.DataFrame(polygonOnly_gdf1_group.apply(lambda grp: grp['hex_list_before'].sum()))\n",
    "# reset the index and rename the 0 column\n",
    "final_df.reset_index(inplace=True)\n",
    "final_df.rename(columns={0:'hex_list'},inplace=True)\n",
    "# count again the final number of hexagons for each unique id\n",
    "final_df['hex_list_length'] = final_df['hex_list'].apply(lambda x : len(x))"
   ]
  },
  {
   "cell_type": "code",
   "execution_count": 343,
   "metadata": {},
   "outputs": [
    {
     "data": {
      "text/html": [
       "<div>\n",
       "<style scoped>\n",
       "    .dataframe tbody tr th:only-of-type {\n",
       "        vertical-align: middle;\n",
       "    }\n",
       "\n",
       "    .dataframe tbody tr th {\n",
       "        vertical-align: top;\n",
       "    }\n",
       "\n",
       "    .dataframe thead th {\n",
       "        text-align: right;\n",
       "    }\n",
       "</style>\n",
       "<table border=\"1\" class=\"dataframe\">\n",
       "  <thead>\n",
       "    <tr style=\"text-align: right;\">\n",
       "      <th></th>\n",
       "      <th>GID_2</th>\n",
       "      <th>hex_list</th>\n",
       "      <th>hex_list_length</th>\n",
       "    </tr>\n",
       "  </thead>\n",
       "  <tbody>\n",
       "    <tr>\n",
       "      <th>0</th>\n",
       "      <td>GBR.1.10_1</td>\n",
       "      <td>[891942cdc13ffff, 891942cd043ffff, 891942c82c7...</td>\n",
       "      <td>3955</td>\n",
       "    </tr>\n",
       "    <tr>\n",
       "      <th>1</th>\n",
       "      <td>GBR.1.11_1</td>\n",
       "      <td>[89194a72067ffff, 89194a09ba7ffff, 89194a08b6b...</td>\n",
       "      <td>760</td>\n",
       "    </tr>\n",
       "    <tr>\n",
       "      <th>2</th>\n",
       "      <td>GBR.1.12_1</td>\n",
       "      <td>[89195876437ffff, 89195876527ffff, 8919587618b...</td>\n",
       "      <td>1157</td>\n",
       "    </tr>\n",
       "    <tr>\n",
       "      <th>3</th>\n",
       "      <td>GBR.1.13_1</td>\n",
       "      <td>[89195d300abffff, 89195d1acbbffff, 89195d32eab...</td>\n",
       "      <td>16088</td>\n",
       "    </tr>\n",
       "    <tr>\n",
       "      <th>4</th>\n",
       "      <td>GBR.1.14_1</td>\n",
       "      <td>[8919424d26fffff, 89194248b5bffff, 8919424d363...</td>\n",
       "      <td>1128</td>\n",
       "    </tr>\n",
       "  </tbody>\n",
       "</table>\n",
       "</div>"
      ],
      "text/plain": [
       "        GID_2                                           hex_list  \\\n",
       "0  GBR.1.10_1  [891942cdc13ffff, 891942cd043ffff, 891942c82c7...   \n",
       "1  GBR.1.11_1  [89194a72067ffff, 89194a09ba7ffff, 89194a08b6b...   \n",
       "2  GBR.1.12_1  [89195876437ffff, 89195876527ffff, 8919587618b...   \n",
       "3  GBR.1.13_1  [89195d300abffff, 89195d1acbbffff, 89195d32eab...   \n",
       "4  GBR.1.14_1  [8919424d26fffff, 89194248b5bffff, 8919424d363...   \n",
       "\n",
       "   hex_list_length  \n",
       "0             3955  \n",
       "1              760  \n",
       "2             1157  \n",
       "3            16088  \n",
       "4             1128  "
      ]
     },
     "execution_count": 343,
     "metadata": {},
     "output_type": "execute_result"
    }
   ],
   "source": [
    "final_df.head()"
   ]
  },
  {
   "cell_type": "code",
   "execution_count": 336,
   "metadata": {},
   "outputs": [],
   "source": []
  },
  {
   "cell_type": "code",
   "execution_count": 331,
   "metadata": {},
   "outputs": [],
   "source": []
  },
  {
   "cell_type": "code",
   "execution_count": 319,
   "metadata": {},
   "outputs": [],
   "source": []
  },
  {
   "cell_type": "code",
   "execution_count": 321,
   "metadata": {},
   "outputs": [],
   "source": []
  },
  {
   "cell_type": "code",
   "execution_count": 259,
   "metadata": {},
   "outputs": [],
   "source": [
    "def good_explode(self):\n",
    "        \"\"\"\n",
    "        Explode muti-part geometries into multiple single geometries.\n",
    "        Each row containing a multi-part geometry will be split into\n",
    "        multiple rows with single geometries, thereby increasing the vertical\n",
    "        size of the GeoDataFrame.\n",
    "        The index of the input geodataframe is no longer unique and is\n",
    "        replaced with a multi-index (original index with additional level\n",
    "        indicating the multiple geometries: a new zero-based index for each\n",
    "        single part geometry per multi-part geometry).\n",
    "        Returns\n",
    "        -------\n",
    "        GeoDataFrame\n",
    "            Exploded geodataframe with each single geometry\n",
    "            as a separate entry in the geodataframe.\n",
    "        \"\"\"\n",
    "        df_copy = self.copy()\n",
    "\n",
    "        exploded_geom = df_copy.geometry.explode().reset_index(level=-1)\n",
    "#         exploded_index = exploded_geom.columns[0]\n",
    "\n",
    "        df = pd.concat(\n",
    "            [df_copy.drop(df_copy._geometry_column_name, axis=1),\n",
    "             exploded_geom], axis=1)\n",
    "        # reset to MultiIndex, otherwise df index is only first level of\n",
    "        # exploded GeoSeries index.\n",
    "#         df.set_index(exploded_index, append=True, inplace=True)\n",
    "#         df.index.names = list(self.index.names) + [None]\n",
    "        geo_df = df.set_geometry(self._geometry_column_name)\n",
    "        \n",
    "        return geo_df.drop(columns=['level_1']).reset_index(drop=True)"
   ]
  },
  {
   "cell_type": "code",
   "execution_count": 97,
   "metadata": {},
   "outputs": [],
   "source": [
    "# lol.geometry.__geo_interface__['features'][0]['geometry']"
   ]
  },
  {
   "cell_type": "code",
   "execution_count": 342,
   "metadata": {},
   "outputs": [],
   "source": [
    "def get_hexagons_fromJson(boundary_geoJson, aperture=APERTURE_SIZE):\n",
    "    # https://github.com/uber/h3-py/blob/master/h3/h3.py\n",
    "    hexagons = list(h3.polyfill(boundary_geoJson, aperture,geo_json_conformant=True))\n",
    "    return hexagons"
   ]
  },
  {
   "cell_type": "code",
   "execution_count": null,
   "metadata": {},
   "outputs": [],
   "source": []
  },
  {
   "cell_type": "code",
   "execution_count": null,
   "metadata": {},
   "outputs": [],
   "source": []
  }
 ],
 "metadata": {
  "kernelspec": {
   "display_name": "Python 3",
   "language": "python",
   "name": "python3"
  },
  "language_info": {
   "codemirror_mode": {
    "name": "ipython",
    "version": 3
   },
   "file_extension": ".py",
   "mimetype": "text/x-python",
   "name": "python",
   "nbconvert_exporter": "python",
   "pygments_lexer": "ipython3",
   "version": "3.7.3"
  }
 },
 "nbformat": 4,
 "nbformat_minor": 2
}
