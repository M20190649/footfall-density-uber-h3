{
 "cells": [
  {
   "cell_type": "code",
   "execution_count": 3,
   "metadata": {},
   "outputs": [],
   "source": [
    "# https://wiki.openstreetmap.org/wiki/Overpass_API/Overpass_API_by_Example\n",
    "# for the amenities"
   ]
  },
  {
   "cell_type": "code",
   "execution_count": 4,
   "metadata": {},
   "outputs": [],
   "source": [
    "import pandas as pd"
   ]
  },
  {
   "cell_type": "code",
   "execution_count": 5,
   "metadata": {},
   "outputs": [],
   "source": [
    "import requests\n",
    "import json\n",
    "overpass_url = \"http://overpass-api.de/api/interpreter\"\n",
    "overpass_query = \"\"\"\n",
    "[out:json];\n",
    "\n",
    "area[admin_level=5][\"name\"=\"Greater London\"]->.searchArea;\n",
    "(\n",
    "  node(area.searchArea)[\"amenity\"=\"cafe\"];\n",
    "  node(area.searchArea)[\"amenity\"=\"bar\"];\n",
    "  node(area.searchArea)[\"amenity\"=\"pub\"];\n",
    "  );\n",
    "out body;\n",
    "\"\"\"\n",
    "response = requests.get(overpass_url, \n",
    "                        params={'data': overpass_query})\n",
    "data = response.json()"
   ]
  },
  {
   "cell_type": "code",
   "execution_count": 6,
   "metadata": {},
   "outputs": [
    {
     "data": {
      "text/plain": [
       "dict_keys(['version', 'generator', 'osm3s', 'elements'])"
      ]
     },
     "execution_count": 6,
     "metadata": {},
     "output_type": "execute_result"
    }
   ],
   "source": [
    "data.keys()"
   ]
  },
  {
   "cell_type": "code",
   "execution_count": 15,
   "metadata": {},
   "outputs": [],
   "source": [
    "osm_df = pd.DataFrame(data['elements'])"
   ]
  },
  {
   "cell_type": "code",
   "execution_count": 16,
   "metadata": {},
   "outputs": [
    {
     "data": {
      "text/html": [
       "<div>\n",
       "<style scoped>\n",
       "    .dataframe tbody tr th:only-of-type {\n",
       "        vertical-align: middle;\n",
       "    }\n",
       "\n",
       "    .dataframe tbody tr th {\n",
       "        vertical-align: top;\n",
       "    }\n",
       "\n",
       "    .dataframe thead th {\n",
       "        text-align: right;\n",
       "    }\n",
       "</style>\n",
       "<table border=\"1\" class=\"dataframe\">\n",
       "  <thead>\n",
       "    <tr style=\"text-align: right;\">\n",
       "      <th></th>\n",
       "      <th>id</th>\n",
       "      <th>lat</th>\n",
       "      <th>lon</th>\n",
       "      <th>tags</th>\n",
       "      <th>type</th>\n",
       "    </tr>\n",
       "  </thead>\n",
       "  <tbody>\n",
       "    <tr>\n",
       "      <th>0</th>\n",
       "      <td>108042</td>\n",
       "      <td>51.523536</td>\n",
       "      <td>-0.135529</td>\n",
       "      <td>{'addr:housenumber': '31', 'addr:postcode': 'W...</td>\n",
       "      <td>node</td>\n",
       "    </tr>\n",
       "    <tr>\n",
       "      <th>1</th>\n",
       "      <td>451152</td>\n",
       "      <td>51.600840</td>\n",
       "      <td>-0.194608</td>\n",
       "      <td>{'addr:city': 'London', 'addr:housenumber': '3...</td>\n",
       "      <td>node</td>\n",
       "    </tr>\n",
       "    <tr>\n",
       "      <th>2</th>\n",
       "      <td>451154</td>\n",
       "      <td>51.599586</td>\n",
       "      <td>-0.196005</td>\n",
       "      <td>{'addr:housenumber': '319', 'addr:street': 'Re...</td>\n",
       "      <td>node</td>\n",
       "    </tr>\n",
       "    <tr>\n",
       "      <th>3</th>\n",
       "      <td>451271</td>\n",
       "      <td>51.614104</td>\n",
       "      <td>-0.176505</td>\n",
       "      <td>{'addr:city': 'London', 'addr:housenumber': '7...</td>\n",
       "      <td>node</td>\n",
       "    </tr>\n",
       "    <tr>\n",
       "      <th>4</th>\n",
       "      <td>12242503</td>\n",
       "      <td>51.592016</td>\n",
       "      <td>0.027962</td>\n",
       "      <td>{'amenity': 'pub', 'name': 'Railway Bell', 're...</td>\n",
       "      <td>node</td>\n",
       "    </tr>\n",
       "  </tbody>\n",
       "</table>\n",
       "</div>"
      ],
      "text/plain": [
       "         id        lat       lon  \\\n",
       "0    108042  51.523536 -0.135529   \n",
       "1    451152  51.600840 -0.194608   \n",
       "2    451154  51.599586 -0.196005   \n",
       "3    451271  51.614104 -0.176505   \n",
       "4  12242503  51.592016  0.027962   \n",
       "\n",
       "                                                tags  type  \n",
       "0  {'addr:housenumber': '31', 'addr:postcode': 'W...  node  \n",
       "1  {'addr:city': 'London', 'addr:housenumber': '3...  node  \n",
       "2  {'addr:housenumber': '319', 'addr:street': 'Re...  node  \n",
       "3  {'addr:city': 'London', 'addr:housenumber': '7...  node  \n",
       "4  {'amenity': 'pub', 'name': 'Railway Bell', 're...  node  "
      ]
     },
     "execution_count": 16,
     "metadata": {},
     "output_type": "execute_result"
    }
   ],
   "source": [
    "osm_df.head()"
   ]
  },
  {
   "cell_type": "code",
   "execution_count": 17,
   "metadata": {},
   "outputs": [],
   "source": [
    "from pandas.io.json import json_normalize \n",
    "osm_df = json_normalize(data, 'elements')"
   ]
  },
  {
   "cell_type": "code",
   "execution_count": 18,
   "metadata": {},
   "outputs": [
    {
     "data": {
      "text/html": [
       "<div>\n",
       "<style scoped>\n",
       "    .dataframe tbody tr th:only-of-type {\n",
       "        vertical-align: middle;\n",
       "    }\n",
       "\n",
       "    .dataframe tbody tr th {\n",
       "        vertical-align: top;\n",
       "    }\n",
       "\n",
       "    .dataframe thead th {\n",
       "        text-align: right;\n",
       "    }\n",
       "</style>\n",
       "<table border=\"1\" class=\"dataframe\">\n",
       "  <thead>\n",
       "    <tr style=\"text-align: right;\">\n",
       "      <th></th>\n",
       "      <th>id</th>\n",
       "      <th>lat</th>\n",
       "      <th>lon</th>\n",
       "      <th>tags</th>\n",
       "      <th>type</th>\n",
       "    </tr>\n",
       "  </thead>\n",
       "  <tbody>\n",
       "    <tr>\n",
       "      <th>0</th>\n",
       "      <td>108042</td>\n",
       "      <td>51.523536</td>\n",
       "      <td>-0.135529</td>\n",
       "      <td>{'addr:housenumber': '31', 'addr:postcode': 'W...</td>\n",
       "      <td>node</td>\n",
       "    </tr>\n",
       "    <tr>\n",
       "      <th>1</th>\n",
       "      <td>451152</td>\n",
       "      <td>51.600840</td>\n",
       "      <td>-0.194608</td>\n",
       "      <td>{'addr:city': 'London', 'addr:housenumber': '3...</td>\n",
       "      <td>node</td>\n",
       "    </tr>\n",
       "    <tr>\n",
       "      <th>2</th>\n",
       "      <td>451154</td>\n",
       "      <td>51.599586</td>\n",
       "      <td>-0.196005</td>\n",
       "      <td>{'addr:housenumber': '319', 'addr:street': 'Re...</td>\n",
       "      <td>node</td>\n",
       "    </tr>\n",
       "    <tr>\n",
       "      <th>3</th>\n",
       "      <td>451271</td>\n",
       "      <td>51.614104</td>\n",
       "      <td>-0.176505</td>\n",
       "      <td>{'addr:city': 'London', 'addr:housenumber': '7...</td>\n",
       "      <td>node</td>\n",
       "    </tr>\n",
       "    <tr>\n",
       "      <th>4</th>\n",
       "      <td>12242503</td>\n",
       "      <td>51.592016</td>\n",
       "      <td>0.027962</td>\n",
       "      <td>{'amenity': 'pub', 'name': 'Railway Bell', 're...</td>\n",
       "      <td>node</td>\n",
       "    </tr>\n",
       "  </tbody>\n",
       "</table>\n",
       "</div>"
      ],
      "text/plain": [
       "         id        lat       lon  \\\n",
       "0    108042  51.523536 -0.135529   \n",
       "1    451152  51.600840 -0.194608   \n",
       "2    451154  51.599586 -0.196005   \n",
       "3    451271  51.614104 -0.176505   \n",
       "4  12242503  51.592016  0.027962   \n",
       "\n",
       "                                                tags  type  \n",
       "0  {'addr:housenumber': '31', 'addr:postcode': 'W...  node  \n",
       "1  {'addr:city': 'London', 'addr:housenumber': '3...  node  \n",
       "2  {'addr:housenumber': '319', 'addr:street': 'Re...  node  \n",
       "3  {'addr:city': 'London', 'addr:housenumber': '7...  node  \n",
       "4  {'amenity': 'pub', 'name': 'Railway Bell', 're...  node  "
      ]
     },
     "execution_count": 18,
     "metadata": {},
     "output_type": "execute_result"
    }
   ],
   "source": [
    "osm_df.head()"
   ]
  },
  {
   "cell_type": "code",
   "execution_count": 10,
   "metadata": {},
   "outputs": [],
   "source": [
    "osm_df['amenity'] = osm_df['tags'].map(lambda x: x['amenity'])\n",
    "# or\n",
    "# for index, row in osm_df.iterrows():\n",
    "#     osm_df.loc[index,'tags'] = osm_df.loc[index,'tags']['amenity']"
   ]
  },
  {
   "cell_type": "code",
   "execution_count": 11,
   "metadata": {},
   "outputs": [
    {
     "data": {
      "text/html": [
       "<div>\n",
       "<style scoped>\n",
       "    .dataframe tbody tr th:only-of-type {\n",
       "        vertical-align: middle;\n",
       "    }\n",
       "\n",
       "    .dataframe tbody tr th {\n",
       "        vertical-align: top;\n",
       "    }\n",
       "\n",
       "    .dataframe thead th {\n",
       "        text-align: right;\n",
       "    }\n",
       "</style>\n",
       "<table border=\"1\" class=\"dataframe\">\n",
       "  <thead>\n",
       "    <tr style=\"text-align: right;\">\n",
       "      <th></th>\n",
       "      <th>id</th>\n",
       "      <th>lat</th>\n",
       "      <th>lon</th>\n",
       "      <th>tags</th>\n",
       "      <th>type</th>\n",
       "      <th>amenity</th>\n",
       "    </tr>\n",
       "  </thead>\n",
       "  <tbody>\n",
       "    <tr>\n",
       "      <th>0</th>\n",
       "      <td>108042</td>\n",
       "      <td>51.523536</td>\n",
       "      <td>-0.135529</td>\n",
       "      <td>{'addr:housenumber': '31', 'addr:postcode': 'W...</td>\n",
       "      <td>node</td>\n",
       "      <td>pub</td>\n",
       "    </tr>\n",
       "    <tr>\n",
       "      <th>1</th>\n",
       "      <td>451152</td>\n",
       "      <td>51.600840</td>\n",
       "      <td>-0.194608</td>\n",
       "      <td>{'addr:city': 'London', 'addr:housenumber': '3...</td>\n",
       "      <td>node</td>\n",
       "      <td>pub</td>\n",
       "    </tr>\n",
       "    <tr>\n",
       "      <th>2</th>\n",
       "      <td>451154</td>\n",
       "      <td>51.599586</td>\n",
       "      <td>-0.196005</td>\n",
       "      <td>{'addr:housenumber': '319', 'addr:street': 'Re...</td>\n",
       "      <td>node</td>\n",
       "      <td>pub</td>\n",
       "    </tr>\n",
       "    <tr>\n",
       "      <th>3</th>\n",
       "      <td>451271</td>\n",
       "      <td>51.614104</td>\n",
       "      <td>-0.176505</td>\n",
       "      <td>{'addr:city': 'London', 'addr:housenumber': '7...</td>\n",
       "      <td>node</td>\n",
       "      <td>pub</td>\n",
       "    </tr>\n",
       "    <tr>\n",
       "      <th>4</th>\n",
       "      <td>12242503</td>\n",
       "      <td>51.592016</td>\n",
       "      <td>0.027962</td>\n",
       "      <td>{'amenity': 'pub', 'name': 'Railway Bell', 're...</td>\n",
       "      <td>node</td>\n",
       "      <td>pub</td>\n",
       "    </tr>\n",
       "  </tbody>\n",
       "</table>\n",
       "</div>"
      ],
      "text/plain": [
       "         id        lat       lon  \\\n",
       "0    108042  51.523536 -0.135529   \n",
       "1    451152  51.600840 -0.194608   \n",
       "2    451154  51.599586 -0.196005   \n",
       "3    451271  51.614104 -0.176505   \n",
       "4  12242503  51.592016  0.027962   \n",
       "\n",
       "                                                tags  type amenity  \n",
       "0  {'addr:housenumber': '31', 'addr:postcode': 'W...  node     pub  \n",
       "1  {'addr:city': 'London', 'addr:housenumber': '3...  node     pub  \n",
       "2  {'addr:housenumber': '319', 'addr:street': 'Re...  node     pub  \n",
       "3  {'addr:city': 'London', 'addr:housenumber': '7...  node     pub  \n",
       "4  {'amenity': 'pub', 'name': 'Railway Bell', 're...  node     pub  "
      ]
     },
     "execution_count": 11,
     "metadata": {},
     "output_type": "execute_result"
    }
   ],
   "source": [
    "osm_df.head()"
   ]
  },
  {
   "cell_type": "code",
   "execution_count": 12,
   "metadata": {},
   "outputs": [
    {
     "data": {
      "text/plain": [
       "5524"
      ]
     },
     "execution_count": 12,
     "metadata": {},
     "output_type": "execute_result"
    }
   ],
   "source": [
    "len(osm_df)"
   ]
  },
  {
   "cell_type": "code",
   "execution_count": null,
   "metadata": {},
   "outputs": [],
   "source": []
  }
 ],
 "metadata": {
  "kernelspec": {
   "display_name": "Python 3",
   "language": "python",
   "name": "python3"
  },
  "language_info": {
   "codemirror_mode": {
    "name": "ipython",
    "version": 3
   },
   "file_extension": ".py",
   "mimetype": "text/x-python",
   "name": "python",
   "nbconvert_exporter": "python",
   "pygments_lexer": "ipython3",
   "version": "3.7.3"
  }
 },
 "nbformat": 4,
 "nbformat_minor": 2
}
