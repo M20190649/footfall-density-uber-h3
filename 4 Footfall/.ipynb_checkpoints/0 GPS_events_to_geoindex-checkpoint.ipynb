{
 "cells": [
  {
   "cell_type": "markdown",
   "metadata": {},
   "source": [
    "import libraries"
   ]
  },
  {
   "cell_type": "code",
   "execution_count": 2,
   "metadata": {},
   "outputs": [],
   "source": [
    "import glob\n",
    "import pandas as pd\n",
    "from h3 import h3\n",
    "import geohash2\n",
    "import numpy as np\n",
    "from multiprocessing import Pool\n",
    "from multiprocessing import cpu_count\n",
    "nCores = cpu_count()\n",
    "import time\n",
    "import sys"
   ]
  },
  {
   "cell_type": "markdown",
   "metadata": {},
   "source": [
    "import function projects"
   ]
  },
  {
   "cell_type": "code",
   "execution_count": 2,
   "metadata": {},
   "outputs": [],
   "source": [
    "sys.path.append(\"..\")\n",
    "from src.geoIndexFunctions import *"
   ]
  },
  {
   "cell_type": "markdown",
   "metadata": {},
   "source": [
    "### Load GPS events "
   ]
  },
  {
   "cell_type": "code",
   "execution_count": 7,
   "metadata": {},
   "outputs": [],
   "source": [
    "# # tourists\n",
    "# gps_path = '../../data/geodata/paul/04new'\n",
    "\n",
    "# # British\n",
    "# gps_path = '../../data/geodata/paul/04new_GBR'\n",
    "\n",
    "# mixed\n",
    "gps_path = '../../data/geodata/paul/mixed'"
   ]
  },
  {
   "cell_type": "code",
   "execution_count": 8,
   "metadata": {},
   "outputs": [],
   "source": [
    "all_files = glob.glob(gps_path + \"/*.parquet\")\n",
    "\n",
    "li = []\n",
    "\n",
    "for filename in all_files:\n",
    "    df = pd.read_parquet(filename, columns=['timestamp', 'latitude', 'longitude', 'country']) #\n",
    "    li.append(df)\n",
    "\n",
    "frame = pd.concat(li, axis=0, ignore_index=True)"
   ]
  },
  {
   "cell_type": "code",
   "execution_count": 9,
   "metadata": {},
   "outputs": [
    {
     "name": "stdout",
     "output_type": "stream",
     "text": [
      "8589632 GPS events within the bounding box of London\n"
     ]
    }
   ],
   "source": [
    "print(\"{} GPS events within the bounding box of London\".format(len(frame)))"
   ]
  },
  {
   "cell_type": "code",
   "execution_count": 5,
   "metadata": {},
   "outputs": [
    {
     "data": {
      "text/plain": [
       "Index(['timestamp', 'latitude', 'longitude', 'country'], dtype='object')"
      ]
     },
     "execution_count": 5,
     "metadata": {},
     "output_type": "execute_result"
    }
   ],
   "source": [
    "df.columns"
   ]
  },
  {
   "cell_type": "code",
   "execution_count": 5,
   "metadata": {},
   "outputs": [
    {
     "data": {
      "text/plain": [
       "(8589632, 4)"
      ]
     },
     "execution_count": 5,
     "metadata": {},
     "output_type": "execute_result"
    }
   ],
   "source": [
    "frame.shape"
   ]
  },
  {
   "cell_type": "code",
   "execution_count": 9,
   "metadata": {},
   "outputs": [
    {
     "data": {
      "text/html": [
       "<div>\n",
       "<style scoped>\n",
       "    .dataframe tbody tr th:only-of-type {\n",
       "        vertical-align: middle;\n",
       "    }\n",
       "\n",
       "    .dataframe tbody tr th {\n",
       "        vertical-align: top;\n",
       "    }\n",
       "\n",
       "    .dataframe thead th {\n",
       "        text-align: right;\n",
       "    }\n",
       "</style>\n",
       "<table border=\"1\" class=\"dataframe\">\n",
       "  <thead>\n",
       "    <tr style=\"text-align: right;\">\n",
       "      <th></th>\n",
       "      <th>timestamp</th>\n",
       "      <th>latitude</th>\n",
       "      <th>longitude</th>\n",
       "    </tr>\n",
       "  </thead>\n",
       "  <tbody>\n",
       "    <tr>\n",
       "      <th>17898592</th>\n",
       "      <td>1556463600000</td>\n",
       "      <td>51.512482</td>\n",
       "      <td>-0.268252</td>\n",
       "    </tr>\n",
       "    <tr>\n",
       "      <th>50869900</th>\n",
       "      <td>1555455600000</td>\n",
       "      <td>51.515220</td>\n",
       "      <td>-0.027450</td>\n",
       "    </tr>\n",
       "    <tr>\n",
       "      <th>52016817</th>\n",
       "      <td>1555315200000</td>\n",
       "      <td>51.523727</td>\n",
       "      <td>-0.649701</td>\n",
       "    </tr>\n",
       "    <tr>\n",
       "      <th>16166201</th>\n",
       "      <td>1555869600000</td>\n",
       "      <td>51.513564</td>\n",
       "      <td>-0.019742</td>\n",
       "    </tr>\n",
       "    <tr>\n",
       "      <th>25098304</th>\n",
       "      <td>1555282800000</td>\n",
       "      <td>51.593684</td>\n",
       "      <td>-0.211697</td>\n",
       "    </tr>\n",
       "  </tbody>\n",
       "</table>\n",
       "</div>"
      ],
      "text/plain": [
       "              timestamp   latitude  longitude\n",
       "17898592  1556463600000  51.512482  -0.268252\n",
       "50869900  1555455600000  51.515220  -0.027450\n",
       "52016817  1555315200000  51.523727  -0.649701\n",
       "16166201  1555869600000  51.513564  -0.019742\n",
       "25098304  1555282800000  51.593684  -0.211697"
      ]
     },
     "execution_count": 9,
     "metadata": {},
     "output_type": "execute_result"
    }
   ],
   "source": [
    "# not showing deviceId for data protection reasons\n",
    "frame.loc[:,frame.columns != 'deviceId'].sample(5)"
   ]
  },
  {
   "cell_type": "code",
   "execution_count": 8,
   "metadata": {},
   "outputs": [
    {
     "data": {
      "text/plain": [
       "timestamp     int64\n",
       "latitude     object\n",
       "longitude    object\n",
       "country      object\n",
       "dtype: object"
      ]
     },
     "execution_count": 8,
     "metadata": {},
     "output_type": "execute_result"
    }
   ],
   "source": [
    "frame.dtypes"
   ]
  },
  {
   "cell_type": "code",
   "execution_count": 6,
   "metadata": {},
   "outputs": [],
   "source": [
    "frame['latitude'] = frame['latitude'].astype(float)\n",
    "frame['longitude'] = frame['longitude'].astype(float)"
   ]
  },
  {
   "cell_type": "markdown",
   "metadata": {},
   "source": [
    "###  Load boundary geoindex list"
   ]
  },
  {
   "cell_type": "markdown",
   "metadata": {},
   "source": [
    "h3"
   ]
  },
  {
   "cell_type": "code",
   "execution_count": 7,
   "metadata": {},
   "outputs": [],
   "source": [
    "all_hexagons_df = pd.read_csv('../data output/0 london_boundary_hex9_list.csv')"
   ]
  },
  {
   "cell_type": "code",
   "execution_count": 8,
   "metadata": {},
   "outputs": [
    {
     "data": {
      "text/html": [
       "<div>\n",
       "<style scoped>\n",
       "    .dataframe tbody tr th:only-of-type {\n",
       "        vertical-align: middle;\n",
       "    }\n",
       "\n",
       "    .dataframe tbody tr th {\n",
       "        vertical-align: top;\n",
       "    }\n",
       "\n",
       "    .dataframe thead th {\n",
       "        text-align: right;\n",
       "    }\n",
       "</style>\n",
       "<table border=\"1\" class=\"dataframe\">\n",
       "  <thead>\n",
       "    <tr style=\"text-align: right;\">\n",
       "      <th></th>\n",
       "      <th>hex9</th>\n",
       "    </tr>\n",
       "  </thead>\n",
       "  <tbody>\n",
       "    <tr>\n",
       "      <th>0</th>\n",
       "      <td>89195dadc07ffff</td>\n",
       "    </tr>\n",
       "    <tr>\n",
       "      <th>1</th>\n",
       "      <td>89194e6d0a7ffff</td>\n",
       "    </tr>\n",
       "    <tr>\n",
       "      <th>2</th>\n",
       "      <td>89194ac2e7bffff</td>\n",
       "    </tr>\n",
       "    <tr>\n",
       "      <th>3</th>\n",
       "      <td>89194ad5c93ffff</td>\n",
       "    </tr>\n",
       "    <tr>\n",
       "      <th>4</th>\n",
       "      <td>89194ad2473ffff</td>\n",
       "    </tr>\n",
       "  </tbody>\n",
       "</table>\n",
       "</div>"
      ],
      "text/plain": [
       "              hex9\n",
       "0  89195dadc07ffff\n",
       "1  89194e6d0a7ffff\n",
       "2  89194ac2e7bffff\n",
       "3  89194ad5c93ffff\n",
       "4  89194ad2473ffff"
      ]
     },
     "execution_count": 8,
     "metadata": {},
     "output_type": "execute_result"
    }
   ],
   "source": [
    "all_hexagons_df.head()"
   ]
  },
  {
   "cell_type": "code",
   "execution_count": 9,
   "metadata": {},
   "outputs": [],
   "source": [
    "hex_col = all_hexagons_df.columns.tolist()[0]\n",
    "APERTURE_SIZE = int(hex_col[-1:])"
   ]
  },
  {
   "cell_type": "code",
   "execution_count": 10,
   "metadata": {},
   "outputs": [],
   "source": [
    "gdf_hex_list = all_hexagons_df[hex_col].tolist()"
   ]
  },
  {
   "cell_type": "code",
   "execution_count": 14,
   "metadata": {},
   "outputs": [],
   "source": [
    "# visualize_polygon('green',hexagons=gdf_hex_list)"
   ]
  },
  {
   "cell_type": "markdown",
   "metadata": {},
   "source": [
    "geohash"
   ]
  },
  {
   "cell_type": "code",
   "execution_count": 15,
   "metadata": {},
   "outputs": [],
   "source": [
    "# all_geohash_df = pd.read_csv('london_boundary_into_hash_list.csv')"
   ]
  },
  {
   "cell_type": "code",
   "execution_count": 16,
   "metadata": {},
   "outputs": [],
   "source": [
    "# hash_col = all_geohash_df.columns.tolist()[0]\n",
    "# HASH_SIZE = int(hash_col[-1:])"
   ]
  },
  {
   "cell_type": "code",
   "execution_count": 17,
   "metadata": {},
   "outputs": [],
   "source": [
    "# gdf_geohash_list = all_geohash_df[hash_col].tolist()"
   ]
  },
  {
   "cell_type": "markdown",
   "metadata": {},
   "source": [
    "### Store geoindex id, geoindex lat/lon for each event and if within boundary"
   ]
  },
  {
   "cell_type": "code",
   "execution_count": 11,
   "metadata": {},
   "outputs": [],
   "source": [
    "# split the dataframe into chunks for parallelization\n",
    "frame_split = np.array_split(frame, nCores)\n",
    "\n",
    "def process(df):\n",
    "    \n",
    "    df[hex_col] = df.apply(lambda x: h3.geo_to_h3(x['latitude'], x['longitude'], APERTURE_SIZE), axis=1)\n",
    "    df[hex_col+\"_lat\"] = df.apply(lambda x: h3.h3_to_geo(x[hex_col])[0], axis=1)\n",
    "    df[hex_col+\"_lon\"] = df.apply(lambda x: h3.h3_to_geo(x[hex_col])[1], axis=1)\n",
    "    df['hex_within'] = df.apply(lambda x: True if x[hex_col] in gdf_hex_list else False, axis=1)\n",
    "    \n",
    "#     # geohash\n",
    "#     df[hash_col] = df.apply(lambda x: geohash2.encode(x['latitude'], x['longitude'], HASH_SIZE), axis=1)\n",
    "#     df[hash_col+\"_lat\"] = df.apply(lambda x: geohash2.decode_exactly(x[hash_col])[0], axis=1)\n",
    "#     df[hash_col+\"_lon\"] = df.apply(lambda x: geohash2.decode_exactly(x[hash_col])[1], axis=1)\n",
    "#     df['hash_within'] = df.apply(lambda x: True if x[hash_col] in gdf_geohash_list else False, axis=1)\n",
    "    \n",
    "    return df\n",
    "\n",
    "# multi cores with Multiprocessing\n",
    "with Pool(processes=nCores) as pool1:\n",
    "    new_frame = pd.concat(pool1.map(process, frame_split)).reset_index(drop=True)"
   ]
  },
  {
   "cell_type": "code",
   "execution_count": null,
   "metadata": {},
   "outputs": [],
   "source": [
    "new_frame.loc[:,new_frame.columns != 'deviceId'].head()"
   ]
  },
  {
   "cell_type": "code",
   "execution_count": null,
   "metadata": {},
   "outputs": [],
   "source": [
    "len(new_frame)"
   ]
  },
  {
   "cell_type": "markdown",
   "metadata": {},
   "source": [
    "### Keep only the ones within London"
   ]
  },
  {
   "cell_type": "code",
   "execution_count": 12,
   "metadata": {},
   "outputs": [
    {
     "name": "stderr",
     "output_type": "stream",
     "text": [
      "/home/lefteris/anaconda3/envs/geoindex/lib/python3.7/site-packages/pandas/core/frame.py:3940: SettingWithCopyWarning: \n",
      "A value is trying to be set on a copy of a slice from a DataFrame\n",
      "\n",
      "See the caveats in the documentation: http://pandas.pydata.org/pandas-docs/stable/indexing.html#indexing-view-versus-copy\n",
      "  errors=errors)\n"
     ]
    }
   ],
   "source": [
    "london_new_frame = new_frame[new_frame.hex_within==True]\n",
    "london_new_frame.drop(columns=[\"hex_within\"], inplace=True)"
   ]
  },
  {
   "cell_type": "code",
   "execution_count": 6,
   "metadata": {},
   "outputs": [
    {
     "name": "stdout",
     "output_type": "stream",
     "text": [
      "7649570 GPS events within London\n"
     ]
    }
   ],
   "source": [
    "print(\"{} GPS events within London\".format(len(london_new_frame)))"
   ]
  },
  {
   "cell_type": "markdown",
   "metadata": {},
   "source": [
    "### Save the df to parquet.gzip file"
   ]
  },
  {
   "cell_type": "code",
   "execution_count": 13,
   "metadata": {},
   "outputs": [],
   "source": [
    "# london_new_frame.to_parquet('../../data/geodata/paul/mixed/gps_events_with_geoindex_within.parquet.gzip',compression='gzip')"
   ]
  },
  {
   "cell_type": "code",
   "execution_count": 3,
   "metadata": {},
   "outputs": [],
   "source": [
    "london_new_frame = pd.read_parquet('../../data/geodata/paul/mixed/gps_events_with_geoindex_within.parquet.gzip')"
   ]
  },
  {
   "cell_type": "markdown",
   "metadata": {},
   "source": [
    "## Appendix "
   ]
  },
  {
   "cell_type": "code",
   "execution_count": 82,
   "metadata": {},
   "outputs": [],
   "source": [
    "# # single core\n",
    "# frame[hex_col] = frame.apply(lambda x: h3.geo_to_h3(x['latitude'], x['longitude'], APERTURE_SIZE), axis=1)"
   ]
  },
  {
   "cell_type": "code",
   "execution_count": 83,
   "metadata": {},
   "outputs": [],
   "source": [
    "# # multi cores with Dask\n",
    "# daskdf = dd.from_pandas(frame,npartitions=nCores).\\\n",
    "#    map_partitions(\n",
    "#       lambda df :df.apply(\n",
    "#           lambda x: h3.geo_to_h3(x['latitude'], x['longitude'], APERTURE_SIZE), axis=1)).\\\n",
    "#     compute()"
   ]
  }
 ],
 "metadata": {
  "kernelspec": {
   "display_name": "Python 3",
   "language": "python",
   "name": "python3"
  },
  "language_info": {
   "codemirror_mode": {
    "name": "ipython",
    "version": 3
   },
   "file_extension": ".py",
   "mimetype": "text/x-python",
   "name": "python",
   "nbconvert_exporter": "python",
   "pygments_lexer": "ipython3",
   "version": "3.7.3"
  }
 },
 "nbformat": 4,
 "nbformat_minor": 2
}
