{
 "cells": [
  {
   "cell_type": "markdown",
   "metadata": {},
   "source": [
    "import libraries"
   ]
  },
  {
   "cell_type": "code",
   "execution_count": 2,
   "metadata": {},
   "outputs": [],
   "source": [
    "import pandas as pd\n",
    "import geopandas as gpd\n",
    "import numpy as np\n",
    "import sys"
   ]
  },
  {
   "cell_type": "markdown",
   "metadata": {},
   "source": [
    "import project functions"
   ]
  },
  {
   "cell_type": "code",
   "execution_count": null,
   "metadata": {},
   "outputs": [],
   "source": []
  },
  {
   "cell_type": "markdown",
   "metadata": {},
   "source": [
    "### GPS data "
   ]
  },
  {
   "cell_type": "code",
   "execution_count": 9,
   "metadata": {},
   "outputs": [],
   "source": [
    "gps = pd.read_parquet('../data output/7 mixed_gps_density_month_day_hour_for_random_forest.parquet.gzip')"
   ]
  },
  {
   "cell_type": "code",
   "execution_count": 7,
   "metadata": {},
   "outputs": [],
   "source": [
    "# select the hex size to work\n",
    "APERTURE_SIZE = 9\n",
    "hex_col = 'hex' + str(APERTURE_SIZE)"
   ]
  },
  {
   "cell_type": "markdown",
   "metadata": {},
   "source": [
    "### extra features to gps "
   ]
  },
  {
   "cell_type": "code",
   "execution_count": 8,
   "metadata": {},
   "outputs": [],
   "source": [
    "poi_density = pd.read_csv('../data output/1 london_boundary_hex9_total_digi_cnt.csv')\n",
    "diversity = pd.read_csv('../data output/4 london_boundary_hex9_diversity.csv') #,usecols = ['']\n",
    "census = pd.read_csv('../data output/5 london_boundary_hex9_census.csv',usecols = [hex_col,'Population density km'])"
   ]
  },
  {
   "cell_type": "code",
   "execution_count": 9,
   "metadata": {},
   "outputs": [],
   "source": [
    "gps = gps.merge(poi_density, how='inner', on=hex_col).\\\n",
    "        merge(diversity, how='inner', on=hex_col).\\\n",
    "        merge(census, how='inner', on=hex_col).\\\n",
    "        rename(columns={'total_cnt':'poi_cnt'})"
   ]
  },
  {
   "cell_type": "code",
   "execution_count": 11,
   "metadata": {},
   "outputs": [
    {
     "data": {
      "text/plain": [
       "Index(['hex9', 'time_cat', 'day_cat', 'month', 'gps_cnt', 'hex9_lat',\n",
       "       'hex9_lon', 'num_minutes', 'year', 'weekend', 'time_num', 'time_cos',\n",
       "       'time_sin', 'day_sin', 'day_num', 'day_cos', 'poi_cnt', 'shannon',\n",
       "       'Population density km'],\n",
       "      dtype='object')"
      ]
     },
     "execution_count": 11,
     "metadata": {},
     "output_type": "execute_result"
    }
   ],
   "source": [
    "gps.columns"
   ]
  },
  {
   "cell_type": "code",
   "execution_count": 12,
   "metadata": {},
   "outputs": [
    {
     "data": {
      "text/plain": [
       "1439544"
      ]
     },
     "execution_count": 12,
     "metadata": {},
     "output_type": "execute_result"
    }
   ],
   "source": [
    "len(gps)"
   ]
  },
  {
   "cell_type": "markdown",
   "metadata": {},
   "source": [
    "dataset prep"
   ]
  },
  {
   "cell_type": "code",
   "execution_count": 13,
   "metadata": {},
   "outputs": [],
   "source": [
    "gps_hot = gps.copy()"
   ]
  },
  {
   "cell_type": "code",
   "execution_count": 14,
   "metadata": {},
   "outputs": [],
   "source": [
    "# One-hot encode the data using pandas get_dummies\n",
    "gps_hot = pd.concat([gps_hot, pd.get_dummies(gps[['month']])], axis=1).drop(['month'], axis=1)"
   ]
  },
  {
   "cell_type": "code",
   "execution_count": 15,
   "metadata": {},
   "outputs": [],
   "source": [
    "gps_test_list = [ #'day_cat','time_cat', # 'country', 'month',\n",
    "                   'weekend',# 'year'\n",
    "                   \"{}_lat\".format(hex_col), \"{}_lon\".format(hex_col),#'num_minutes', \n",
    "                   'time_num', 'time_cos', 'time_sin', 'day_num','day_cos',\n",
    "                   'day_sin', 'poi_cnt', 'shannon', 'Population density km']\n",
    "gps_predict_label = 'gps_cnt'"
   ]
  },
  {
   "cell_type": "code",
   "execution_count": 16,
   "metadata": {},
   "outputs": [],
   "source": [
    "#https://towardsdatascience.com/random-forest-in-python-24d0893d51c0\n",
    "#https://stackabuse.com/random-forest-algorithm-with-python-and-scikit-learn/"
   ]
  },
  {
   "cell_type": "code",
   "execution_count": 17,
   "metadata": {},
   "outputs": [],
   "source": [
    "# y is the values we want to predict\n",
    "y = gps_hot[gps_predict_label].values\n",
    "# OR\n",
    "# Labels are the values we want to predict\n",
    "labels = np.array(gps_hot[gps_predict_label])\n",
    "\n",
    "# Convert to numpy array\n",
    "X = gps_hot[gps_test_list].values\n",
    "# OR\n",
    "# Convert to numpy array\n",
    "gps_array = np.array(gps_hot[gps_test_list])"
   ]
  },
  {
   "cell_type": "markdown",
   "metadata": {},
   "source": [
    "split dataset into train and test"
   ]
  },
  {
   "cell_type": "code",
   "execution_count": 18,
   "metadata": {},
   "outputs": [],
   "source": [
    "# Using Skicit-learn to split data into training and testing sets\n",
    "from sklearn.model_selection import train_test_split\n",
    "\n",
    "# # Split the data into training and testing sets\n",
    "# train_features, test_features, train_labels, test_labels =\\\n",
    "#     train_test_split(gps_array, labels, test_size = 0.20) # , random_state = 42\n",
    "\n",
    "#OR\n",
    "\n",
    "# Split the data into training and testing sets\n",
    "X_train, X_test, y_train, y_test =\\\n",
    "    train_test_split(X, y, test_size = 0.20) # , random_state = 42"
   ]
  },
  {
   "cell_type": "code",
   "execution_count": 19,
   "metadata": {},
   "outputs": [
    {
     "name": "stdout",
     "output_type": "stream",
     "text": [
      "Training Features Shape: (1151635, 12)\n",
      "Training Labels Shape: (1151635,)\n",
      "Testing Features Shape: (287909, 12)\n",
      "Testing Labels Shape: (287909,)\n"
     ]
    }
   ],
   "source": [
    "print('Training Features Shape:', X_train.shape)\n",
    "print('Training Labels Shape:', y_train.shape)\n",
    "print('Testing Features Shape:', X_test.shape)\n",
    "print('Testing Labels Shape:', y_test.shape)"
   ]
  },
  {
   "cell_type": "code",
   "execution_count": 20,
   "metadata": {},
   "outputs": [],
   "source": [
    "# this isn't so important for the random forests algorithm\n",
    "# they can deal well with unscaled features\n",
    "\n",
    "# # Feature Scaling\n",
    "# from sklearn.preprocessing import StandardScaler\n",
    "\n",
    "# sc = StandardScaler()  \n",
    "# train_features = sc.fit_transform(train_features)  \n",
    "# test_features = sc.transform(test_features) "
   ]
  },
  {
   "cell_type": "markdown",
   "metadata": {},
   "source": [
    "train"
   ]
  },
  {
   "cell_type": "code",
   "execution_count": 21,
   "metadata": {},
   "outputs": [
    {
     "data": {
      "text/plain": [
       "RandomForestRegressor(bootstrap=True, criterion='mse', max_depth=None,\n",
       "           max_features='auto', max_leaf_nodes=None,\n",
       "           min_impurity_decrease=0.0, min_impurity_split=None,\n",
       "           min_samples_leaf=1, min_samples_split=2,\n",
       "           min_weight_fraction_leaf=0.0, n_estimators=100, n_jobs=-1,\n",
       "           oob_score=False, random_state=None, verbose=0, warm_start=False)"
      ]
     },
     "execution_count": 21,
     "metadata": {},
     "output_type": "execute_result"
    }
   ],
   "source": [
    "from sklearn.ensemble import RandomForestRegressor\n",
    "\n",
    "# Instantiate model with 100 decision trees\n",
    "reg = RandomForestRegressor(n_estimators = 100, n_jobs=-1) # , random_state = 42\n",
    "\n",
    "# Train the model on training data\n",
    "reg.fit(X_train, y_train) # OR train_features, train_labels"
   ]
  },
  {
   "cell_type": "markdown",
   "metadata": {},
   "source": [
    "predict"
   ]
  },
  {
   "cell_type": "code",
   "execution_count": 22,
   "metadata": {},
   "outputs": [],
   "source": [
    "# Use the forest's predict method on the test data\n",
    "y_pred = reg.predict(X_test) #OR test_features"
   ]
  },
  {
   "cell_type": "markdown",
   "metadata": {},
   "source": [
    "metrics"
   ]
  },
  {
   "cell_type": "code",
   "execution_count": 27,
   "metadata": {},
   "outputs": [
    {
     "data": {
      "text/html": [
       "<div>\n",
       "<style scoped>\n",
       "    .dataframe tbody tr th:only-of-type {\n",
       "        vertical-align: middle;\n",
       "    }\n",
       "\n",
       "    .dataframe tbody tr th {\n",
       "        vertical-align: top;\n",
       "    }\n",
       "\n",
       "    .dataframe thead th {\n",
       "        text-align: right;\n",
       "    }\n",
       "</style>\n",
       "<table border=\"1\" class=\"dataframe\">\n",
       "  <thead>\n",
       "    <tr style=\"text-align: right;\">\n",
       "      <th></th>\n",
       "      <th>real_cnt</th>\n",
       "      <th>pred_cnt</th>\n",
       "    </tr>\n",
       "  </thead>\n",
       "  <tbody>\n",
       "    <tr>\n",
       "      <th>216622</th>\n",
       "      <td>2</td>\n",
       "      <td>2.16</td>\n",
       "    </tr>\n",
       "    <tr>\n",
       "      <th>217195</th>\n",
       "      <td>6</td>\n",
       "      <td>4.69</td>\n",
       "    </tr>\n",
       "    <tr>\n",
       "      <th>86204</th>\n",
       "      <td>4</td>\n",
       "      <td>3.69</td>\n",
       "    </tr>\n",
       "    <tr>\n",
       "      <th>244249</th>\n",
       "      <td>1</td>\n",
       "      <td>1.47</td>\n",
       "    </tr>\n",
       "    <tr>\n",
       "      <th>243124</th>\n",
       "      <td>10</td>\n",
       "      <td>9.18</td>\n",
       "    </tr>\n",
       "  </tbody>\n",
       "</table>\n",
       "</div>"
      ],
      "text/plain": [
       "        real_cnt  pred_cnt\n",
       "216622         2      2.16\n",
       "217195         6      4.69\n",
       "86204          4      3.69\n",
       "244249         1      1.47\n",
       "243124        10      9.18"
      ]
     },
     "execution_count": 27,
     "metadata": {},
     "output_type": "execute_result"
    }
   ],
   "source": [
    "result = pd.DataFrame(y_pred,y_test).reset_index().rename(columns={'index':'real_cnt',0:'pred_cnt'})\n",
    "result.sample(5)"
   ]
  },
  {
   "cell_type": "code",
   "execution_count": 28,
   "metadata": {},
   "outputs": [
    {
     "data": {
      "text/html": [
       "<div>\n",
       "<style scoped>\n",
       "    .dataframe tbody tr th:only-of-type {\n",
       "        vertical-align: middle;\n",
       "    }\n",
       "\n",
       "    .dataframe tbody tr th {\n",
       "        vertical-align: top;\n",
       "    }\n",
       "\n",
       "    .dataframe thead th {\n",
       "        text-align: right;\n",
       "    }\n",
       "</style>\n",
       "<table border=\"1\" class=\"dataframe\">\n",
       "  <thead>\n",
       "    <tr style=\"text-align: right;\">\n",
       "      <th></th>\n",
       "      <th>0</th>\n",
       "    </tr>\n",
       "  </thead>\n",
       "  <tbody>\n",
       "    <tr>\n",
       "      <th>count</th>\n",
       "      <td>287909.000000</td>\n",
       "    </tr>\n",
       "    <tr>\n",
       "      <th>mean</th>\n",
       "      <td>1.933574</td>\n",
       "    </tr>\n",
       "    <tr>\n",
       "      <th>std</th>\n",
       "      <td>3.109429</td>\n",
       "    </tr>\n",
       "    <tr>\n",
       "      <th>min</th>\n",
       "      <td>0.000000</td>\n",
       "    </tr>\n",
       "    <tr>\n",
       "      <th>25%</th>\n",
       "      <td>0.540000</td>\n",
       "    </tr>\n",
       "    <tr>\n",
       "      <th>50%</th>\n",
       "      <td>1.160000</td>\n",
       "    </tr>\n",
       "    <tr>\n",
       "      <th>75%</th>\n",
       "      <td>2.330000</td>\n",
       "    </tr>\n",
       "    <tr>\n",
       "      <th>max</th>\n",
       "      <td>460.130000</td>\n",
       "    </tr>\n",
       "  </tbody>\n",
       "</table>\n",
       "</div>"
      ],
      "text/plain": [
       "                   0\n",
       "count  287909.000000\n",
       "mean        1.933574\n",
       "std         3.109429\n",
       "min         0.000000\n",
       "25%         0.540000\n",
       "50%         1.160000\n",
       "75%         2.330000\n",
       "max       460.130000"
      ]
     },
     "execution_count": 28,
     "metadata": {},
     "output_type": "execute_result"
    }
   ],
   "source": [
    "pd.DataFrame(abs(result.pred_cnt - result.real_cnt)).describe()"
   ]
  },
  {
   "cell_type": "code",
   "execution_count": 29,
   "metadata": {},
   "outputs": [],
   "source": [
    "# # Calculate the Mean Absolute Error\n",
    "# errors = abs(y_pred - y_test)\n",
    "# # Print out the mean absolute error (mae)\n",
    "# print('Mean Absolute Error:', round(np.mean(errors), 2), 'gps events')\n",
    "\n",
    "# # Calculate Mean Absolute Percentage Error (MAPE)\n",
    "# mape = 100 * (errors / y_test)\n",
    "# # Calculate and display accuracy\n",
    "# accuracy = 100 - np.mean(mape)\n",
    "# print('Accuracy:', round(accuracy, 2), '%.')"
   ]
  },
  {
   "cell_type": "code",
   "execution_count": 30,
   "metadata": {},
   "outputs": [
    {
     "name": "stdout",
     "output_type": "stream",
     "text": [
      "error units: gps events\n",
      "Mean Absolute Error: 1.9335741154323072\n",
      "Mean Squared Error: 13.40722356821079\n",
      "Root Mean Squared Error: 3.6615875748383773\n"
     ]
    }
   ],
   "source": [
    "from sklearn import metrics\n",
    "\n",
    "print('error units: gps events')\n",
    "print('Mean Absolute Error:', metrics.mean_absolute_error(y_test, y_pred))  \n",
    "print('Mean Squared Error:', metrics.mean_squared_error(y_test, y_pred))  \n",
    "print('Root Mean Squared Error:', np.sqrt(metrics.mean_squared_error(y_test, y_pred))) "
   ]
  },
  {
   "cell_type": "markdown",
   "metadata": {},
   "source": [
    "important features"
   ]
  },
  {
   "cell_type": "code",
   "execution_count": 31,
   "metadata": {},
   "outputs": [
    {
     "data": {
      "text/plain": [
       "[('poi_cnt', 0.25586961398465813),\n",
       " ('hex9_lon', 0.16562504310969162),\n",
       " ('hex9_lat', 0.12468295349175212),\n",
       " ('day_num', 0.09371543467601412),\n",
       " ('shannon', 0.081444300609095),\n",
       " ('Population density km', 0.07254983980368976),\n",
       " ('time_cos', 0.06302790669420713),\n",
       " ('time_num', 0.05601375230571867),\n",
       " ('day_cos', 0.03246513611154692),\n",
       " ('day_sin', 0.026815766760115132),\n",
       " ('time_sin', 0.02585968437416047),\n",
       " ('weekend', 0.0019305680793508604)]"
      ]
     },
     "execution_count": 31,
     "metadata": {},
     "output_type": "execute_result"
    }
   ],
   "source": [
    "import operator\n",
    "dict_feat_imp = dict(zip(gps_test_list,reg.feature_importances_))\n",
    "\n",
    "sorted_features = sorted(dict_feat_imp.items(), key=operator.itemgetter(1), reverse=True)\n",
    "sorted_features"
   ]
  },
  {
   "cell_type": "code",
   "execution_count": 32,
   "metadata": {},
   "outputs": [
    {
     "name": "stdout",
     "output_type": "stream",
     "text": [
      "Variable: poi_cnt              Importance: 0.26\n",
      "Variable: hex9_lon             Importance: 0.17\n",
      "Variable: hex9_lat             Importance: 0.12\n",
      "Variable: day_num              Importance: 0.09\n",
      "Variable: shannon              Importance: 0.08\n",
      "Variable: Population density km Importance: 0.07\n",
      "Variable: time_num             Importance: 0.06\n",
      "Variable: time_cos             Importance: 0.06\n",
      "Variable: time_sin             Importance: 0.03\n",
      "Variable: day_cos              Importance: 0.03\n",
      "Variable: day_sin              Importance: 0.03\n",
      "Variable: weekend              Importance: 0.0\n"
     ]
    },
    {
     "data": {
      "text/plain": [
       "[None, None, None, None, None, None, None, None, None, None, None, None]"
      ]
     },
     "execution_count": 32,
     "metadata": {},
     "output_type": "execute_result"
    }
   ],
   "source": [
    "# Get numerical feature importances\n",
    "importances = list(reg.feature_importances_)\n",
    "\n",
    "# List of tuples with variable and importance\n",
    "feature_importances = [(gps_array, round(importance, 2)) for gps_array, importance in zip(gps_test_list, importances)]\n",
    "\n",
    "# Sort the feature importances by most important first\n",
    "feature_importances = sorted(feature_importances, key = lambda x: x[1], reverse = True)\n",
    "\n",
    "# Print out the feature and importances \n",
    "[print('Variable: {:20} Importance: {}'.format(*pair)) for pair in feature_importances ] #if pair[1]>0.015"
   ]
  },
  {
   "cell_type": "code",
   "execution_count": 33,
   "metadata": {},
   "outputs": [
    {
     "data": {
      "image/png": "[encoded data removed]",
      "text/plain": [
       "<Figure size 1296x360 with 1 Axes>"
      ]
     },
     "metadata": {},
     "output_type": "display_data"
    }
   ],
   "source": [
    "# Import matplotlib for plotting and use magic command for Jupyter Notebooks\n",
    "import matplotlib.pyplot as plt\n",
    "%matplotlib inline\n",
    "\n",
    "# Set the style\n",
    "plt.style.use('fivethirtyeight')\n",
    "\n",
    "# list of x locations for plotting\n",
    "x_values = list(range(len(importances)))\n",
    "\n",
    "# set the size of figure\n",
    "f, ax = plt.subplots(figsize=(18,5))\n",
    "\n",
    "# Make a bar chart\n",
    "plt.bar(x_values, importances, orientation = 'vertical')\n",
    "\n",
    "# Tick labels for x axis\n",
    "plt.xticks(x_values, gps_test_list, rotation='vertical')\n",
    "\n",
    "# Axis labels and title\n",
    "plt.ylabel('Importance'); plt.xlabel('Variable'); plt.title('Variable Importances');"
   ]
  },
  {
   "cell_type": "markdown",
   "metadata": {},
   "source": [
    "check pred vs test"
   ]
  },
  {
   "cell_type": "code",
   "execution_count": 165,
   "metadata": {},
   "outputs": [],
   "source": [
    "# To reduce memory consumption, we are only predicting for\n",
    "# the region closely around UCL\n",
    "# 51.514138,-0.151663,51.532775,-0.118189\n",
    "# on a Monday\n",
    "# at 13:00\n",
    "\n",
    "area_time_to_predict_df = gps_hot[(gps_hot[\"{}_lat\".format(hex_col)] > 51.514138) & (gps_hot[\"{}_lat\".format(hex_col)] < 51.532775) &\n",
    "        (gps_hot[\"{}_lon\".format(hex_col)] > -0.151663) & (gps_hot[\"{}_lon\".format(hex_col)] < -0.118189) &\n",
    "        (gps_hot['time_cat']=='13:00') &\n",
    "       (gps_hot['day_num'] <= 1/7.)]\n",
    "\n",
    "test_value = area_time_to_predict_df[gps_test_list].values\n",
    "test_pred_value = area_time_to_predict_df[[gps_predict_label]].values"
   ]
  },
  {
   "cell_type": "code",
   "execution_count": 14,
   "metadata": {},
   "outputs": [],
   "source": [
    "pred_value = reg.predict(test_value)"
   ]
  },
  {
   "cell_type": "code",
   "execution_count": 167,
   "metadata": {},
   "outputs": [],
   "source": [
    "# pd.DataFrame(test_pred_value,pred_value)\n",
    "df = pd.DataFrame({'pred_cnt':pred_value})\n",
    "df['actual_cnt'] = test_pred_value"
   ]
  },
  {
   "cell_type": "code",
   "execution_count": 168,
   "metadata": {},
   "outputs": [],
   "source": [
    "new_area_time_to_predict_df = pd.concat([area_time_to_predict_df.reset_index(), df], axis=1)"
   ]
  },
  {
   "cell_type": "markdown",
   "metadata": {},
   "source": [
    "### save it as shp to visualise in QGIS "
   ]
  },
  {
   "cell_type": "code",
   "execution_count": 185,
   "metadata": {},
   "outputs": [],
   "source": [
    "from shapely import geometry\n",
    "\n",
    "# create a geometry column to store the geometry\n",
    "new_area_time_to_predict_df['geometry'] = None\n",
    "\n",
    "# populate the geometry column with shapely objects of the respective geohash\n",
    "new_area_time_to_predict_df.geometry = new_area_time_to_predict_df.apply(lambda x:geometry.Polygon(h3.h3_to_geo_boundary(x[hex_col], geo_json=True)),axis=1)\n",
    "\n",
    "new_area_time_to_predict_df = gpd.GeoDataFrame(new_area_time_to_predict_df, crs={'init': 'epsg:4326'}, geometry='geometry')"
   ]
  },
  {
   "cell_type": "code",
   "execution_count": 189,
   "metadata": {},
   "outputs": [],
   "source": [
    "# new_area_time_to_predict_df[[hex_col, 'geometry', 'pred_cnt', 'actual_cnt']].\\\n",
    "#         to_file(driver = 'ESRI Shapefile', filename= \"../data output/hexagons_counts_london/ucl_hex_pred_actual_cnts.shp\")"
   ]
  },
  {
   "cell_type": "markdown",
   "metadata": {},
   "source": [
    "### Visualize tree"
   ]
  },
  {
   "cell_type": "code",
   "execution_count": 38,
   "metadata": {},
   "outputs": [],
   "source": [
    "# Import tools needed for visualization\n",
    "from sklearn.tree import export_graphviz\n",
    "import pydot"
   ]
  },
  {
   "cell_type": "code",
   "execution_count": 39,
   "metadata": {},
   "outputs": [],
   "source": [
    "# Limit depth of tree to 3 levels\n",
    "reg_small = RandomForestRegressor(n_estimators=10, max_depth = 3)\n",
    "reg_small.fit(X_train, y_train)\n",
    "# Extract the small tree\n",
    "tree_small = reg_small.estimators_[5]\n",
    "# Save the tree as a png image\n",
    "export_graphviz(tree_small, out_file = 'small_tree.dot',filled=True, feature_names = gps_test_list, rounded = True, precision = 1)\n",
    "(graph, ) = pydot.graph_from_dot_file('small_tree.dot')\n",
    "graph.write_png('small_tree.png');"
   ]
  },
  {
   "cell_type": "code",
   "execution_count": null,
   "metadata": {},
   "outputs": [],
   "source": []
  }
 ],
 "metadata": {
  "kernelspec": {
   "display_name": "Python 3",
   "language": "python",
   "name": "python3"
  },
  "language_info": {
   "codemirror_mode": {
    "name": "ipython",
    "version": 3
   },
   "file_extension": ".py",
   "mimetype": "text/x-python",
   "name": "python",
   "nbconvert_exporter": "python",
   "pygments_lexer": "ipython3",
   "version": "3.7.3"
  }
 },
 "nbformat": 4,
 "nbformat_minor": 2
}
