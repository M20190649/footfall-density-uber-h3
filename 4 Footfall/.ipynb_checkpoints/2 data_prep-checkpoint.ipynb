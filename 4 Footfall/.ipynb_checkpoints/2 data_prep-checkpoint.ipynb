{
 "cells": [
  {
   "cell_type": "markdown",
   "metadata": {},
   "source": [
    "import libraries"
   ]
  },
  {
   "cell_type": "code",
   "execution_count": 1,
   "metadata": {},
   "outputs": [],
   "source": [
    "import pandas as pd\n",
    "# import geopandas as gpd\n",
    "# import pyarrow\n",
    "import math\n",
    "import numpy as np\n",
    "import time\n",
    "# from h3 import h3\n",
    "from multiprocessing import Pool\n",
    "from multiprocessing import cpu_count\n",
    "nCores = cpu_count()\n",
    "import sys"
   ]
  },
  {
   "cell_type": "markdown",
   "metadata": {},
   "source": [
    "import project functions"
   ]
  },
  {
   "cell_type": "code",
   "execution_count": 2,
   "metadata": {},
   "outputs": [],
   "source": [
    "sys.path.append(\"..\")\n",
    "from src.geoIndexFunctions import *"
   ]
  },
  {
   "cell_type": "markdown",
   "metadata": {},
   "source": [
    "### load gps events with hex"
   ]
  },
  {
   "cell_type": "code",
   "execution_count": 3,
   "metadata": {},
   "outputs": [],
   "source": [
    "# select the hex size to work\n",
    "APERTURE_SIZE = 9\n",
    "hex_col = 'hex' + str(APERTURE_SIZE)"
   ]
  },
  {
   "cell_type": "code",
   "execution_count": 4,
   "metadata": {},
   "outputs": [],
   "source": [
    "gps_in_london_hex = pd.read_parquet('../../data/geodata/paul/mixed/gps_events_with_geoindex_within.parquet.gzip',\n",
    "                                   columns=['timestamp', 'latitude', 'longitude',hex_col, \n",
    "                                             \"{}_lat\".format(hex_col), \"{}_lon\".format(hex_col)])"
   ]
  },
  {
   "cell_type": "code",
   "execution_count": 5,
   "metadata": {},
   "outputs": [
    {
     "data": {
      "text/html": [
       "<div>\n",
       "<style scoped>\n",
       "    .dataframe tbody tr th:only-of-type {\n",
       "        vertical-align: middle;\n",
       "    }\n",
       "\n",
       "    .dataframe tbody tr th {\n",
       "        vertical-align: top;\n",
       "    }\n",
       "\n",
       "    .dataframe thead th {\n",
       "        text-align: right;\n",
       "    }\n",
       "</style>\n",
       "<table border=\"1\" class=\"dataframe\">\n",
       "  <thead>\n",
       "    <tr style=\"text-align: right;\">\n",
       "      <th></th>\n",
       "      <th>timestamp</th>\n",
       "      <th>latitude</th>\n",
       "      <th>longitude</th>\n",
       "      <th>hex9</th>\n",
       "      <th>hex9_lat</th>\n",
       "      <th>hex9_lon</th>\n",
       "    </tr>\n",
       "  </thead>\n",
       "  <tbody>\n",
       "    <tr>\n",
       "      <th>0</th>\n",
       "      <td>1554138000000</td>\n",
       "      <td>51.422662</td>\n",
       "      <td>-0.204717</td>\n",
       "      <td>89194adabc3ffff</td>\n",
       "      <td>51.421924</td>\n",
       "      <td>-0.204710</td>\n",
       "    </tr>\n",
       "    <tr>\n",
       "      <th>1</th>\n",
       "      <td>1554138000000</td>\n",
       "      <td>51.472333</td>\n",
       "      <td>-0.487267</td>\n",
       "      <td>89195d3627bffff</td>\n",
       "      <td>51.471911</td>\n",
       "      <td>-0.488514</td>\n",
       "    </tr>\n",
       "    <tr>\n",
       "      <th>2</th>\n",
       "      <td>1554138000000</td>\n",
       "      <td>51.477352</td>\n",
       "      <td>-0.112836</td>\n",
       "      <td>89194ad1543ffff</td>\n",
       "      <td>51.476604</td>\n",
       "      <td>-0.113294</td>\n",
       "    </tr>\n",
       "    <tr>\n",
       "      <th>3</th>\n",
       "      <td>1554138000000</td>\n",
       "      <td>51.462253</td>\n",
       "      <td>-0.170607</td>\n",
       "      <td>89194ad1267ffff</td>\n",
       "      <td>51.463324</td>\n",
       "      <td>-0.170675</td>\n",
       "    </tr>\n",
       "    <tr>\n",
       "      <th>4</th>\n",
       "      <td>1554138000000</td>\n",
       "      <td>51.516440</td>\n",
       "      <td>-0.131118</td>\n",
       "      <td>89195da4997ffff</td>\n",
       "      <td>51.515597</td>\n",
       "      <td>-0.129970</td>\n",
       "    </tr>\n",
       "  </tbody>\n",
       "</table>\n",
       "</div>"
      ],
      "text/plain": [
       "       timestamp   latitude  longitude             hex9   hex9_lat  hex9_lon\n",
       "0  1554138000000  51.422662  -0.204717  89194adabc3ffff  51.421924 -0.204710\n",
       "1  1554138000000  51.472333  -0.487267  89195d3627bffff  51.471911 -0.488514\n",
       "2  1554138000000  51.477352  -0.112836  89194ad1543ffff  51.476604 -0.113294\n",
       "3  1554138000000  51.462253  -0.170607  89194ad1267ffff  51.463324 -0.170675\n",
       "4  1554138000000  51.516440  -0.131118  89195da4997ffff  51.515597 -0.129970"
      ]
     },
     "execution_count": 5,
     "metadata": {},
     "output_type": "execute_result"
    }
   ],
   "source": [
    "# not showing deviceId for data protection reasons\n",
    "gps_in_london_hex.loc[:, gps_in_london_hex.columns!='deviceId'].head()"
   ]
  },
  {
   "cell_type": "markdown",
   "metadata": {},
   "source": [
    "###  Add date columns in the dataframe"
   ]
  },
  {
   "cell_type": "code",
   "execution_count": 6,
   "metadata": {},
   "outputs": [],
   "source": [
    "day_to_str = {0: \"Monday\",\n",
    "              1: \"Tuesday\",\n",
    "              2: \"Wednesday\",\n",
    "              3: \"Thursday\",\n",
    "              4: \"Friday\",\n",
    "              5: \"Saturday\",\n",
    "              6: \"Sunday\"}"
   ]
  },
  {
   "cell_type": "code",
   "execution_count": 7,
   "metadata": {},
   "outputs": [
    {
     "name": "stdout",
     "output_type": "stream",
     "text": [
      "501.319\n"
     ]
    }
   ],
   "source": [
    "# split the dataframe into chunks for parallelization\n",
    "gps_in_london_hex_split = np.array_split(gps_in_london_hex, nCores)\n",
    "\n",
    "def epoch_to_datetime(df):\n",
    "    df['date'] = df.apply(lambda x: pd.to_datetime(round(x['timestamp']/1000), unit='s'), axis=1)\n",
    "    df['num_minutes'] = df.apply(lambda x : x['date'].hour * 60 + x['date'].minute , axis=1)\n",
    "    df['day_cat'] = df.apply(lambda x: day_to_str[x['date'].dayofweek], axis=1)\n",
    "    df['month'] = df.apply(lambda x: x['date'].month, axis=1)\n",
    "    df['year'] = df.apply(lambda x: 1 if x['date'].year==2019 else 0, axis=1)\n",
    "    df['weekend'] = df.apply(lambda x: 0 if x['date'].dayofweek<5 else 1, axis=1)\n",
    "    return df\n",
    "\n",
    "# multi cores with Multiprocessing\n",
    "with Pool(processes=nCores) as pool1:\n",
    "    start = time.time()\n",
    "    new_gps_in_london_hex = pd.concat(pool1.map(epoch_to_datetime, gps_in_london_hex_split)).reset_index(drop=True)\n",
    "    print(round(time.time() - start, 3))"
   ]
  },
  {
   "cell_type": "code",
   "execution_count": 8,
   "metadata": {
    "scrolled": true
   },
   "outputs": [
    {
     "data": {
      "text/html": [
       "<div>\n",
       "<style scoped>\n",
       "    .dataframe tbody tr th:only-of-type {\n",
       "        vertical-align: middle;\n",
       "    }\n",
       "\n",
       "    .dataframe tbody tr th {\n",
       "        vertical-align: top;\n",
       "    }\n",
       "\n",
       "    .dataframe thead th {\n",
       "        text-align: right;\n",
       "    }\n",
       "</style>\n",
       "<table border=\"1\" class=\"dataframe\">\n",
       "  <thead>\n",
       "    <tr style=\"text-align: right;\">\n",
       "      <th></th>\n",
       "      <th>timestamp</th>\n",
       "      <th>latitude</th>\n",
       "      <th>longitude</th>\n",
       "      <th>hex9</th>\n",
       "      <th>hex9_lat</th>\n",
       "      <th>hex9_lon</th>\n",
       "      <th>date</th>\n",
       "      <th>num_minutes</th>\n",
       "      <th>day_cat</th>\n",
       "      <th>month</th>\n",
       "      <th>year</th>\n",
       "      <th>weekend</th>\n",
       "    </tr>\n",
       "  </thead>\n",
       "  <tbody>\n",
       "    <tr>\n",
       "      <th>0</th>\n",
       "      <td>1554138000000</td>\n",
       "      <td>51.422662</td>\n",
       "      <td>-0.204717</td>\n",
       "      <td>89194adabc3ffff</td>\n",
       "      <td>51.421924</td>\n",
       "      <td>-0.204710</td>\n",
       "      <td>2019-04-01 17:00:00</td>\n",
       "      <td>1020</td>\n",
       "      <td>Monday</td>\n",
       "      <td>4</td>\n",
       "      <td>1</td>\n",
       "      <td>0</td>\n",
       "    </tr>\n",
       "    <tr>\n",
       "      <th>1</th>\n",
       "      <td>1554138000000</td>\n",
       "      <td>51.472333</td>\n",
       "      <td>-0.487267</td>\n",
       "      <td>89195d3627bffff</td>\n",
       "      <td>51.471911</td>\n",
       "      <td>-0.488514</td>\n",
       "      <td>2019-04-01 17:00:00</td>\n",
       "      <td>1020</td>\n",
       "      <td>Monday</td>\n",
       "      <td>4</td>\n",
       "      <td>1</td>\n",
       "      <td>0</td>\n",
       "    </tr>\n",
       "    <tr>\n",
       "      <th>2</th>\n",
       "      <td>1554138000000</td>\n",
       "      <td>51.477352</td>\n",
       "      <td>-0.112836</td>\n",
       "      <td>89194ad1543ffff</td>\n",
       "      <td>51.476604</td>\n",
       "      <td>-0.113294</td>\n",
       "      <td>2019-04-01 17:00:00</td>\n",
       "      <td>1020</td>\n",
       "      <td>Monday</td>\n",
       "      <td>4</td>\n",
       "      <td>1</td>\n",
       "      <td>0</td>\n",
       "    </tr>\n",
       "    <tr>\n",
       "      <th>3</th>\n",
       "      <td>1554138000000</td>\n",
       "      <td>51.462253</td>\n",
       "      <td>-0.170607</td>\n",
       "      <td>89194ad1267ffff</td>\n",
       "      <td>51.463324</td>\n",
       "      <td>-0.170675</td>\n",
       "      <td>2019-04-01 17:00:00</td>\n",
       "      <td>1020</td>\n",
       "      <td>Monday</td>\n",
       "      <td>4</td>\n",
       "      <td>1</td>\n",
       "      <td>0</td>\n",
       "    </tr>\n",
       "    <tr>\n",
       "      <th>4</th>\n",
       "      <td>1554138000000</td>\n",
       "      <td>51.516440</td>\n",
       "      <td>-0.131118</td>\n",
       "      <td>89195da4997ffff</td>\n",
       "      <td>51.515597</td>\n",
       "      <td>-0.129970</td>\n",
       "      <td>2019-04-01 17:00:00</td>\n",
       "      <td>1020</td>\n",
       "      <td>Monday</td>\n",
       "      <td>4</td>\n",
       "      <td>1</td>\n",
       "      <td>0</td>\n",
       "    </tr>\n",
       "  </tbody>\n",
       "</table>\n",
       "</div>"
      ],
      "text/plain": [
       "       timestamp   latitude  longitude             hex9   hex9_lat  hex9_lon  \\\n",
       "0  1554138000000  51.422662  -0.204717  89194adabc3ffff  51.421924 -0.204710   \n",
       "1  1554138000000  51.472333  -0.487267  89195d3627bffff  51.471911 -0.488514   \n",
       "2  1554138000000  51.477352  -0.112836  89194ad1543ffff  51.476604 -0.113294   \n",
       "3  1554138000000  51.462253  -0.170607  89194ad1267ffff  51.463324 -0.170675   \n",
       "4  1554138000000  51.516440  -0.131118  89195da4997ffff  51.515597 -0.129970   \n",
       "\n",
       "                 date  num_minutes day_cat  month  year  weekend  \n",
       "0 2019-04-01 17:00:00         1020  Monday      4     1        0  \n",
       "1 2019-04-01 17:00:00         1020  Monday      4     1        0  \n",
       "2 2019-04-01 17:00:00         1020  Monday      4     1        0  \n",
       "3 2019-04-01 17:00:00         1020  Monday      4     1        0  \n",
       "4 2019-04-01 17:00:00         1020  Monday      4     1        0  "
      ]
     },
     "execution_count": 8,
     "metadata": {},
     "output_type": "execute_result"
    }
   ],
   "source": [
    "new_gps_in_london_hex.loc[:, new_gps_in_london_hex.columns!='deviceId'].head()"
   ]
  },
  {
   "cell_type": "markdown",
   "metadata": {},
   "source": [
    "parquet checkpoint"
   ]
  },
  {
   "cell_type": "code",
   "execution_count": 12,
   "metadata": {},
   "outputs": [],
   "source": [
    "# #save it as a csv so we dont need to do that every time\n",
    "# new_gps_in_london_hex.to_parquet('9_gps_events_in_london_hexagon_list.parquet.gzip',compression='gzip')"
   ]
  },
  {
   "cell_type": "markdown",
   "metadata": {},
   "source": [
    "### Add day and time num, con, sin"
   ]
  },
  {
   "cell_type": "code",
   "execution_count": 14,
   "metadata": {},
   "outputs": [],
   "source": [
    "def timecat_timenum_timecos_timesin(num_minutes):\n",
    "    # Time of the start of the bin\n",
    "    time_bin = num_minutes // 30     # eg. 1005\n",
    "    hour_bin = num_minutes // 60                  # eg. 16\n",
    "    min_bin = (time_bin * 30) % 60  # eg. 45\n",
    "\n",
    "    #get time_cat\n",
    "    hour_str = str(hour_bin) if hour_bin / 10 > 0 else \"0\" + str(hour_bin)  # eg. \"16\"\n",
    "    min_str = str(min_bin) if min_bin / 10 > 0 else \"0\" + str(min_bin)      # eg. \"45\"\n",
    "    time_cat = hour_str + \":\" + min_str                                     # eg. \"16:45\"\n",
    "\n",
    "    # Get a floating point representation of the center of the time bin\n",
    "    time_num = (hour_bin*60 + min_bin + 30 / 2.0)/(60*24)      # eg. 0.7065972222222222\n",
    "\n",
    "    time_cos = math.cos(time_num * 2 * math.pi)\n",
    "    time_sin = math.sin(time_num * 2 * math.pi)\n",
    "\n",
    "    return time_cat, time_num, time_cos, time_sin"
   ]
  },
  {
   "cell_type": "code",
   "execution_count": 15,
   "metadata": {},
   "outputs": [
    {
     "name": "stdout",
     "output_type": "stream",
     "text": [
      "357.44\n"
     ]
    }
   ],
   "source": [
    "# split the dataframe into chunks for parallelization\n",
    "new_gps_in_london_hex_split = np.array_split(new_gps_in_london_hex, nCores)\n",
    "\n",
    "def get_timecat_timenum_timecos_timesin(df):\n",
    "    df['time_list'] = df.apply(lambda x : timecat_timenum_timecos_timesin(x['num_minutes']),axis=1)\n",
    "    df['time_cat'] = df.apply(lambda x: x['time_list'][0],axis=1)\n",
    "    df['time_num'] = df.apply(lambda x: x['time_list'][1],axis=1)\n",
    "    df['time_cos'] = df.apply(lambda x: x['time_list'][2],axis=1)\n",
    "    df['time_sin'] = df.apply(lambda x: x['time_list'][3],axis=1)\n",
    "    df['day_num'] = df.apply(lambda x: (x['date'].dayofweek + x['time_num'])/7.0,axis=1)\n",
    "    df['day_cos'] = df.apply(lambda x: math.cos(x['day_num']*2*math.pi),axis=1)\n",
    "    df['day_sin'] = df.apply(lambda x: math.sin(x['day_num']*2*math.pi),axis=1)\n",
    "    return df.drop([\"time_list\"], axis=1)\n",
    "\n",
    "# multi cores with Multiprocessing\n",
    "with Pool(processes=nCores) as pool1:\n",
    "    start = time.time()\n",
    "    new_new_gps_in_london_hex_split = pd.concat(pool1.map(get_timecat_timenum_timecos_timesin, new_gps_in_london_hex_split)).reset_index(drop=True)\n",
    "    print(round(time.time() - start, 3))"
   ]
  },
  {
   "cell_type": "code",
   "execution_count": 16,
   "metadata": {},
   "outputs": [
    {
     "data": {
      "text/html": [
       "<div>\n",
       "<style scoped>\n",
       "    .dataframe tbody tr th:only-of-type {\n",
       "        vertical-align: middle;\n",
       "    }\n",
       "\n",
       "    .dataframe tbody tr th {\n",
       "        vertical-align: top;\n",
       "    }\n",
       "\n",
       "    .dataframe thead th {\n",
       "        text-align: right;\n",
       "    }\n",
       "</style>\n",
       "<table border=\"1\" class=\"dataframe\">\n",
       "  <thead>\n",
       "    <tr style=\"text-align: right;\">\n",
       "      <th></th>\n",
       "      <th>timestamp</th>\n",
       "      <th>latitude</th>\n",
       "      <th>longitude</th>\n",
       "      <th>hex9</th>\n",
       "      <th>hex9_lat</th>\n",
       "      <th>hex9_lon</th>\n",
       "      <th>date</th>\n",
       "      <th>num_minutes</th>\n",
       "      <th>day_cat</th>\n",
       "      <th>month</th>\n",
       "      <th>year</th>\n",
       "      <th>weekend</th>\n",
       "      <th>time_cat</th>\n",
       "      <th>time_num</th>\n",
       "      <th>time_cos</th>\n",
       "      <th>time_sin</th>\n",
       "      <th>day_num</th>\n",
       "      <th>day_cos</th>\n",
       "      <th>day_sin</th>\n",
       "    </tr>\n",
       "  </thead>\n",
       "  <tbody>\n",
       "    <tr>\n",
       "      <th>0</th>\n",
       "      <td>1554138000000</td>\n",
       "      <td>51.422662</td>\n",
       "      <td>-0.204717</td>\n",
       "      <td>89194adabc3ffff</td>\n",
       "      <td>51.421924</td>\n",
       "      <td>-0.204710</td>\n",
       "      <td>2019-04-01 17:00:00</td>\n",
       "      <td>1020</td>\n",
       "      <td>Monday</td>\n",
       "      <td>4</td>\n",
       "      <td>1</td>\n",
       "      <td>0</td>\n",
       "      <td>17:00</td>\n",
       "      <td>0.71875</td>\n",
       "      <td>-0.19509</td>\n",
       "      <td>-0.980785</td>\n",
       "      <td>0.102679</td>\n",
       "      <td>0.79901</td>\n",
       "      <td>0.601317</td>\n",
       "    </tr>\n",
       "    <tr>\n",
       "      <th>1</th>\n",
       "      <td>1554138000000</td>\n",
       "      <td>51.472333</td>\n",
       "      <td>-0.487267</td>\n",
       "      <td>89195d3627bffff</td>\n",
       "      <td>51.471911</td>\n",
       "      <td>-0.488514</td>\n",
       "      <td>2019-04-01 17:00:00</td>\n",
       "      <td>1020</td>\n",
       "      <td>Monday</td>\n",
       "      <td>4</td>\n",
       "      <td>1</td>\n",
       "      <td>0</td>\n",
       "      <td>17:00</td>\n",
       "      <td>0.71875</td>\n",
       "      <td>-0.19509</td>\n",
       "      <td>-0.980785</td>\n",
       "      <td>0.102679</td>\n",
       "      <td>0.79901</td>\n",
       "      <td>0.601317</td>\n",
       "    </tr>\n",
       "    <tr>\n",
       "      <th>2</th>\n",
       "      <td>1554138000000</td>\n",
       "      <td>51.477352</td>\n",
       "      <td>-0.112836</td>\n",
       "      <td>89194ad1543ffff</td>\n",
       "      <td>51.476604</td>\n",
       "      <td>-0.113294</td>\n",
       "      <td>2019-04-01 17:00:00</td>\n",
       "      <td>1020</td>\n",
       "      <td>Monday</td>\n",
       "      <td>4</td>\n",
       "      <td>1</td>\n",
       "      <td>0</td>\n",
       "      <td>17:00</td>\n",
       "      <td>0.71875</td>\n",
       "      <td>-0.19509</td>\n",
       "      <td>-0.980785</td>\n",
       "      <td>0.102679</td>\n",
       "      <td>0.79901</td>\n",
       "      <td>0.601317</td>\n",
       "    </tr>\n",
       "    <tr>\n",
       "      <th>3</th>\n",
       "      <td>1554138000000</td>\n",
       "      <td>51.462253</td>\n",
       "      <td>-0.170607</td>\n",
       "      <td>89194ad1267ffff</td>\n",
       "      <td>51.463324</td>\n",
       "      <td>-0.170675</td>\n",
       "      <td>2019-04-01 17:00:00</td>\n",
       "      <td>1020</td>\n",
       "      <td>Monday</td>\n",
       "      <td>4</td>\n",
       "      <td>1</td>\n",
       "      <td>0</td>\n",
       "      <td>17:00</td>\n",
       "      <td>0.71875</td>\n",
       "      <td>-0.19509</td>\n",
       "      <td>-0.980785</td>\n",
       "      <td>0.102679</td>\n",
       "      <td>0.79901</td>\n",
       "      <td>0.601317</td>\n",
       "    </tr>\n",
       "    <tr>\n",
       "      <th>4</th>\n",
       "      <td>1554138000000</td>\n",
       "      <td>51.516440</td>\n",
       "      <td>-0.131118</td>\n",
       "      <td>89195da4997ffff</td>\n",
       "      <td>51.515597</td>\n",
       "      <td>-0.129970</td>\n",
       "      <td>2019-04-01 17:00:00</td>\n",
       "      <td>1020</td>\n",
       "      <td>Monday</td>\n",
       "      <td>4</td>\n",
       "      <td>1</td>\n",
       "      <td>0</td>\n",
       "      <td>17:00</td>\n",
       "      <td>0.71875</td>\n",
       "      <td>-0.19509</td>\n",
       "      <td>-0.980785</td>\n",
       "      <td>0.102679</td>\n",
       "      <td>0.79901</td>\n",
       "      <td>0.601317</td>\n",
       "    </tr>\n",
       "  </tbody>\n",
       "</table>\n",
       "</div>"
      ],
      "text/plain": [
       "       timestamp   latitude  longitude             hex9   hex9_lat  hex9_lon  \\\n",
       "0  1554138000000  51.422662  -0.204717  89194adabc3ffff  51.421924 -0.204710   \n",
       "1  1554138000000  51.472333  -0.487267  89195d3627bffff  51.471911 -0.488514   \n",
       "2  1554138000000  51.477352  -0.112836  89194ad1543ffff  51.476604 -0.113294   \n",
       "3  1554138000000  51.462253  -0.170607  89194ad1267ffff  51.463324 -0.170675   \n",
       "4  1554138000000  51.516440  -0.131118  89195da4997ffff  51.515597 -0.129970   \n",
       "\n",
       "                 date  num_minutes day_cat  month  year  weekend time_cat  \\\n",
       "0 2019-04-01 17:00:00         1020  Monday      4     1        0    17:00   \n",
       "1 2019-04-01 17:00:00         1020  Monday      4     1        0    17:00   \n",
       "2 2019-04-01 17:00:00         1020  Monday      4     1        0    17:00   \n",
       "3 2019-04-01 17:00:00         1020  Monday      4     1        0    17:00   \n",
       "4 2019-04-01 17:00:00         1020  Monday      4     1        0    17:00   \n",
       "\n",
       "   time_num  time_cos  time_sin   day_num  day_cos   day_sin  \n",
       "0   0.71875  -0.19509 -0.980785  0.102679  0.79901  0.601317  \n",
       "1   0.71875  -0.19509 -0.980785  0.102679  0.79901  0.601317  \n",
       "2   0.71875  -0.19509 -0.980785  0.102679  0.79901  0.601317  \n",
       "3   0.71875  -0.19509 -0.980785  0.102679  0.79901  0.601317  \n",
       "4   0.71875  -0.19509 -0.980785  0.102679  0.79901  0.601317  "
      ]
     },
     "execution_count": 16,
     "metadata": {},
     "output_type": "execute_result"
    }
   ],
   "source": [
    "new_new_gps_in_london_hex_split.loc[:, new_new_gps_in_london_hex_split.columns!='deviceId'].head()"
   ]
  },
  {
   "cell_type": "markdown",
   "metadata": {},
   "source": [
    "parquet checkpoint"
   ]
  },
  {
   "cell_type": "code",
   "execution_count": 17,
   "metadata": {},
   "outputs": [],
   "source": [
    "# #save it as a csv so we dont need to do that every time\n",
    "# new_new_gps_in_london_hex_split.to_parquet('9_gps_events_in_london_hexagon_list.parquet.gzip',compression='gzip')"
   ]
  },
  {
   "cell_type": "code",
   "execution_count": 18,
   "metadata": {},
   "outputs": [
    {
     "data": {
      "text/plain": [
       "Index(['timestamp', 'latitude', 'longitude', 'hex9', 'hex9_lat', 'hex9_lon',\n",
       "       'date', 'num_minutes', 'day_cat', 'month', 'year', 'weekend',\n",
       "       'time_cat', 'time_num', 'time_cos', 'time_sin', 'day_num', 'day_cos',\n",
       "       'day_sin'],\n",
       "      dtype='object')"
      ]
     },
     "execution_count": 18,
     "metadata": {},
     "output_type": "execute_result"
    }
   ],
   "source": [
    "new_new_gps_in_london_hex_split.columns"
   ]
  },
  {
   "cell_type": "markdown",
   "metadata": {},
   "source": [
    "## GPS density per hex per 1 hour bin and day"
   ]
  },
  {
   "cell_type": "code",
   "execution_count": 19,
   "metadata": {},
   "outputs": [],
   "source": [
    "# store gps density for each hex per da per time bin\n",
    "gps_density_hex_day_hour = new_new_gps_in_london_hex_split.groupby([hex_col, 'time_cat', 'day_cat', 'month']).size().to_frame('gps_cnt').reset_index()"
   ]
  },
  {
   "cell_type": "code",
   "execution_count": 20,
   "metadata": {},
   "outputs": [
    {
     "data": {
      "text/html": [
       "<div>\n",
       "<style scoped>\n",
       "    .dataframe tbody tr th:only-of-type {\n",
       "        vertical-align: middle;\n",
       "    }\n",
       "\n",
       "    .dataframe tbody tr th {\n",
       "        vertical-align: top;\n",
       "    }\n",
       "\n",
       "    .dataframe thead th {\n",
       "        text-align: right;\n",
       "    }\n",
       "</style>\n",
       "<table border=\"1\" class=\"dataframe\">\n",
       "  <thead>\n",
       "    <tr style=\"text-align: right;\">\n",
       "      <th></th>\n",
       "      <th>hex9</th>\n",
       "      <th>time_cat</th>\n",
       "      <th>day_cat</th>\n",
       "      <th>month</th>\n",
       "      <th>gps_cnt</th>\n",
       "    </tr>\n",
       "  </thead>\n",
       "  <tbody>\n",
       "    <tr>\n",
       "      <th>399675</th>\n",
       "      <td>89194ad36a7ffff</td>\n",
       "      <td>12:00</td>\n",
       "      <td>Monday</td>\n",
       "      <td>4</td>\n",
       "      <td>785</td>\n",
       "    </tr>\n",
       "    <tr>\n",
       "      <th>349832</th>\n",
       "      <td>89194ad3067ffff</td>\n",
       "      <td>12:00</td>\n",
       "      <td>Tuesday</td>\n",
       "      <td>4</td>\n",
       "      <td>774</td>\n",
       "    </tr>\n",
       "    <tr>\n",
       "      <th>349828</th>\n",
       "      <td>89194ad3067ffff</td>\n",
       "      <td>12:00</td>\n",
       "      <td>Monday</td>\n",
       "      <td>4</td>\n",
       "      <td>766</td>\n",
       "    </tr>\n",
       "    <tr>\n",
       "      <th>399679</th>\n",
       "      <td>89194ad36a7ffff</td>\n",
       "      <td>12:00</td>\n",
       "      <td>Tuesday</td>\n",
       "      <td>4</td>\n",
       "      <td>750</td>\n",
       "    </tr>\n",
       "    <tr>\n",
       "      <th>1108662</th>\n",
       "      <td>89195da4d07ffff</td>\n",
       "      <td>12:00</td>\n",
       "      <td>Monday</td>\n",
       "      <td>4</td>\n",
       "      <td>736</td>\n",
       "    </tr>\n",
       "  </tbody>\n",
       "</table>\n",
       "</div>"
      ],
      "text/plain": [
       "                    hex9 time_cat  day_cat  month  gps_cnt\n",
       "399675   89194ad36a7ffff    12:00   Monday      4      785\n",
       "349832   89194ad3067ffff    12:00  Tuesday      4      774\n",
       "349828   89194ad3067ffff    12:00   Monday      4      766\n",
       "399679   89194ad36a7ffff    12:00  Tuesday      4      750\n",
       "1108662  89195da4d07ffff    12:00   Monday      4      736"
      ]
     },
     "execution_count": 20,
     "metadata": {},
     "output_type": "execute_result"
    }
   ],
   "source": [
    "gps_density_hex_day_hour.sort_values(by='gps_cnt', ascending=False).head()"
   ]
  },
  {
   "cell_type": "code",
   "execution_count": 22,
   "metadata": {},
   "outputs": [],
   "source": [
    "new_gpd_density = pd.merge(gps_density_hex_day_hour,\\\n",
    "         new_new_gps_in_london_hex_split[[hex_col, 'time_cat', 'day_cat', 'month',\n",
    "                                          'hex9_lat', 'hex9_lon','num_minutes',\\\n",
    "                                        'year', 'weekend','time_num', 'time_cos', 'time_sin',\\\n",
    "                                          'day_sin','day_num', 'day_cos',]],\\\n",
    "         on=[hex_col, 'time_cat', 'day_cat', 'month'], how='left').drop_duplicates()"
   ]
  },
  {
   "cell_type": "code",
   "execution_count": 23,
   "metadata": {},
   "outputs": [
    {
     "data": {
      "text/html": [
       "<div>\n",
       "<style scoped>\n",
       "    .dataframe tbody tr th:only-of-type {\n",
       "        vertical-align: middle;\n",
       "    }\n",
       "\n",
       "    .dataframe tbody tr th {\n",
       "        vertical-align: top;\n",
       "    }\n",
       "\n",
       "    .dataframe thead th {\n",
       "        text-align: right;\n",
       "    }\n",
       "</style>\n",
       "<table border=\"1\" class=\"dataframe\">\n",
       "  <thead>\n",
       "    <tr style=\"text-align: right;\">\n",
       "      <th></th>\n",
       "      <th>hex9</th>\n",
       "      <th>time_cat</th>\n",
       "      <th>day_cat</th>\n",
       "      <th>month</th>\n",
       "      <th>gps_cnt</th>\n",
       "      <th>hex9_lat</th>\n",
       "      <th>hex9_lon</th>\n",
       "      <th>num_minutes</th>\n",
       "      <th>year</th>\n",
       "      <th>weekend</th>\n",
       "      <th>time_num</th>\n",
       "      <th>time_cos</th>\n",
       "      <th>time_sin</th>\n",
       "      <th>day_sin</th>\n",
       "      <th>day_num</th>\n",
       "      <th>day_cos</th>\n",
       "    </tr>\n",
       "  </thead>\n",
       "  <tbody>\n",
       "    <tr>\n",
       "      <th>2664870</th>\n",
       "      <td>89194ad36a7ffff</td>\n",
       "      <td>12:00</td>\n",
       "      <td>Monday</td>\n",
       "      <td>4</td>\n",
       "      <td>785</td>\n",
       "      <td>51.525687</td>\n",
       "      <td>-0.083441</td>\n",
       "      <td>720</td>\n",
       "      <td>1</td>\n",
       "      <td>0</td>\n",
       "      <td>0.510417</td>\n",
       "      <td>-0.997859</td>\n",
       "      <td>-0.065403</td>\n",
       "      <td>0.442289</td>\n",
       "      <td>0.072917</td>\n",
       "      <td>0.896873</td>\n",
       "    </tr>\n",
       "    <tr>\n",
       "      <th>1948748</th>\n",
       "      <td>89194ad3067ffff</td>\n",
       "      <td>12:00</td>\n",
       "      <td>Tuesday</td>\n",
       "      <td>4</td>\n",
       "      <td>774</td>\n",
       "      <td>51.504514</td>\n",
       "      <td>-0.082869</td>\n",
       "      <td>720</td>\n",
       "      <td>1</td>\n",
       "      <td>0</td>\n",
       "      <td>0.510417</td>\n",
       "      <td>-0.997859</td>\n",
       "      <td>-0.065403</td>\n",
       "      <td>0.976966</td>\n",
       "      <td>0.215774</td>\n",
       "      <td>0.213396</td>\n",
       "    </tr>\n",
       "    <tr>\n",
       "      <th>1947381</th>\n",
       "      <td>89194ad3067ffff</td>\n",
       "      <td>12:00</td>\n",
       "      <td>Monday</td>\n",
       "      <td>4</td>\n",
       "      <td>766</td>\n",
       "      <td>51.504514</td>\n",
       "      <td>-0.082869</td>\n",
       "      <td>720</td>\n",
       "      <td>1</td>\n",
       "      <td>0</td>\n",
       "      <td>0.510417</td>\n",
       "      <td>-0.997859</td>\n",
       "      <td>-0.065403</td>\n",
       "      <td>0.442289</td>\n",
       "      <td>0.072917</td>\n",
       "      <td>0.896873</td>\n",
       "    </tr>\n",
       "    <tr>\n",
       "      <th>2666205</th>\n",
       "      <td>89194ad36a7ffff</td>\n",
       "      <td>12:00</td>\n",
       "      <td>Tuesday</td>\n",
       "      <td>4</td>\n",
       "      <td>750</td>\n",
       "      <td>51.525687</td>\n",
       "      <td>-0.083441</td>\n",
       "      <td>720</td>\n",
       "      <td>1</td>\n",
       "      <td>0</td>\n",
       "      <td>0.510417</td>\n",
       "      <td>-0.997859</td>\n",
       "      <td>-0.065403</td>\n",
       "      <td>0.976966</td>\n",
       "      <td>0.215774</td>\n",
       "      <td>0.213396</td>\n",
       "    </tr>\n",
       "    <tr>\n",
       "      <th>6165261</th>\n",
       "      <td>89195da4d07ffff</td>\n",
       "      <td>12:00</td>\n",
       "      <td>Monday</td>\n",
       "      <td>4</td>\n",
       "      <td>736</td>\n",
       "      <td>51.526292</td>\n",
       "      <td>-0.127955</td>\n",
       "      <td>720</td>\n",
       "      <td>1</td>\n",
       "      <td>0</td>\n",
       "      <td>0.510417</td>\n",
       "      <td>-0.997859</td>\n",
       "      <td>-0.065403</td>\n",
       "      <td>0.442289</td>\n",
       "      <td>0.072917</td>\n",
       "      <td>0.896873</td>\n",
       "    </tr>\n",
       "  </tbody>\n",
       "</table>\n",
       "</div>"
      ],
      "text/plain": [
       "                    hex9 time_cat  day_cat  month  gps_cnt   hex9_lat  \\\n",
       "2664870  89194ad36a7ffff    12:00   Monday      4      785  51.525687   \n",
       "1948748  89194ad3067ffff    12:00  Tuesday      4      774  51.504514   \n",
       "1947381  89194ad3067ffff    12:00   Monday      4      766  51.504514   \n",
       "2666205  89194ad36a7ffff    12:00  Tuesday      4      750  51.525687   \n",
       "6165261  89195da4d07ffff    12:00   Monday      4      736  51.526292   \n",
       "\n",
       "         hex9_lon  num_minutes  year  weekend  time_num  time_cos  time_sin  \\\n",
       "2664870 -0.083441          720     1        0  0.510417 -0.997859 -0.065403   \n",
       "1948748 -0.082869          720     1        0  0.510417 -0.997859 -0.065403   \n",
       "1947381 -0.082869          720     1        0  0.510417 -0.997859 -0.065403   \n",
       "2666205 -0.083441          720     1        0  0.510417 -0.997859 -0.065403   \n",
       "6165261 -0.127955          720     1        0  0.510417 -0.997859 -0.065403   \n",
       "\n",
       "          day_sin   day_num   day_cos  \n",
       "2664870  0.442289  0.072917  0.896873  \n",
       "1948748  0.976966  0.215774  0.213396  \n",
       "1947381  0.442289  0.072917  0.896873  \n",
       "2666205  0.976966  0.215774  0.213396  \n",
       "6165261  0.442289  0.072917  0.896873  "
      ]
     },
     "execution_count": 23,
     "metadata": {},
     "output_type": "execute_result"
    }
   ],
   "source": [
    "new_gpd_density.sort_values(by='gps_cnt', ascending=False).head()"
   ]
  },
  {
   "cell_type": "code",
   "execution_count": 24,
   "metadata": {},
   "outputs": [
    {
     "data": {
      "text/plain": [
       "time_cat    24\n",
       "day_cat      7\n",
       "month        1\n",
       "dtype: int64"
      ]
     },
     "execution_count": 24,
     "metadata": {},
     "output_type": "execute_result"
    }
   ],
   "source": [
    "new_gpd_density[['time_cat', 'day_cat', 'month']].nunique()"
   ]
  },
  {
   "cell_type": "code",
   "execution_count": 25,
   "metadata": {},
   "outputs": [
    {
     "data": {
      "text/plain": [
       "1439544"
      ]
     },
     "execution_count": 25,
     "metadata": {},
     "output_type": "execute_result"
    }
   ],
   "source": [
    "len(new_gpd_density)"
   ]
  },
  {
   "cell_type": "markdown",
   "metadata": {},
   "source": [
    "### Construct a df with all hex and month, day_cat and time_cat"
   ]
  },
  {
   "cell_type": "markdown",
   "metadata": {},
   "source": [
    "we cannot do that for memory issues"
   ]
  },
  {
   "cell_type": "code",
   "execution_count": 80,
   "metadata": {},
   "outputs": [
    {
     "data": {
      "text/plain": [
       "17047"
      ]
     },
     "execution_count": 80,
     "metadata": {},
     "output_type": "execute_result"
    }
   ],
   "source": [
    "# all_hex_df = pd.read_csv('../data output/0 london_boundary_hex9_list.csv')\n",
    "# len(all_hex_df)"
   ]
  },
  {
   "cell_type": "code",
   "execution_count": 72,
   "metadata": {},
   "outputs": [],
   "source": [
    "# month_list = [4]\n",
    "# time_cat = ['00:00','1:00','2:00', '3:00', '4:00', '5:00', '6:00', '7:00','8:00', '9:00','10:00','11:00',\n",
    "# '12:00', '13:00', '14:00', '15:00', '16:00', '17:00', '18:00','19:00','20:00', '21:00', '22:00', '23:00']\n",
    "# day_cat = ['Monday', 'Tuesday', 'Wednesday','Thursday', 'Friday', 'Saturday', 'Sunday',]"
   ]
  },
  {
   "cell_type": "code",
   "execution_count": 74,
   "metadata": {},
   "outputs": [],
   "source": [
    "# first = pd.concat([\n",
    "#     pd.DataFrame(\n",
    "#         {'hex9': row.hex9,\n",
    "#          'month': row.month,\n",
    "#          'day_cat': day_cat\n",
    "#         }\n",
    "#     ) for i, row in all_hex_df.iterrows()\n",
    "# ], ignore_index=True).loc[:, ['hex9', 'month', 'day_cat']]"
   ]
  },
  {
   "cell_type": "code",
   "execution_count": 82,
   "metadata": {},
   "outputs": [],
   "source": [
    "# second = pd.concat([\n",
    "#     pd.DataFrame(\n",
    "#         {'hex9': row.hex9,\n",
    "#          'month': row.month,\n",
    "#          'day_cat': row.day_cat,\n",
    "#          'time_cat':time_cat\n",
    "#         }\n",
    "#     ) for i, row in first.iterrows()\n",
    "# ], ignore_index=True).loc[:, ['hex9', 'month', 'day_cat', 'time_cat']]"
   ]
  },
  {
   "cell_type": "code",
   "execution_count": 83,
   "metadata": {},
   "outputs": [
    {
     "data": {
      "text/plain": [
       "2863896"
      ]
     },
     "execution_count": 83,
     "metadata": {},
     "output_type": "execute_result"
    }
   ],
   "source": [
    "# len(second)"
   ]
  },
  {
   "cell_type": "markdown",
   "metadata": {},
   "source": [
    "csv checkpoint"
   ]
  },
  {
   "cell_type": "code",
   "execution_count": 85,
   "metadata": {},
   "outputs": [],
   "source": [
    "# second.to_csv('../../data/geodata/paul/04new/london_boundary_hex9_list_month_day_hour.csv')"
   ]
  },
  {
   "cell_type": "code",
   "execution_count": 120,
   "metadata": {},
   "outputs": [],
   "source": [
    "# last_london_hex_split = pd.merge(new_gpd_density,second, how='outer', on= [hex_col, 'time_cat', 'day_cat'])\n",
    "# last_london_hex_split.fillna(0,inplace=True)"
   ]
  },
  {
   "cell_type": "code",
   "execution_count": 121,
   "metadata": {},
   "outputs": [
    {
     "data": {
      "text/plain": [
       "False"
      ]
     },
     "execution_count": 121,
     "metadata": {},
     "output_type": "execute_result"
    }
   ],
   "source": [
    "# # just to check if all cnts were populated\n",
    "# last_london_hex_split.gps_cnt.isnull().any()"
   ]
  },
  {
   "cell_type": "markdown",
   "metadata": {},
   "source": [
    "### Save the df to parquet.gzip file"
   ]
  },
  {
   "cell_type": "code",
   "execution_count": 26,
   "metadata": {},
   "outputs": [],
   "source": [
    "new_gpd_density.to_parquet('../data output/7 mixed_gps_density_month_day_hour_for_random_forest.parquet.gzip',compression='gzip')"
   ]
  },
  {
   "cell_type": "code",
   "execution_count": 27,
   "metadata": {},
   "outputs": [
    {
     "data": {
      "text/plain": [
       "16382"
      ]
     },
     "execution_count": 27,
     "metadata": {},
     "output_type": "execute_result"
    }
   ],
   "source": [
    "new_gpd_density.hex9.nunique()"
   ]
  },
  {
   "cell_type": "code",
   "execution_count": null,
   "metadata": {},
   "outputs": [],
   "source": []
  },
  {
   "cell_type": "code",
   "execution_count": null,
   "metadata": {},
   "outputs": [],
   "source": []
  },
  {
   "cell_type": "code",
   "execution_count": null,
   "metadata": {},
   "outputs": [],
   "source": []
  },
  {
   "cell_type": "markdown",
   "metadata": {},
   "source": [
    "## Appendix"
   ]
  },
  {
   "cell_type": "code",
   "execution_count": 134,
   "metadata": {},
   "outputs": [],
   "source": [
    "# osm_shp = gpd.read_file('/home/lefteris/Desktop/trajectories/OSM_and_GeoIndex/data/OSM geofabrik/gis_osm_pois_free_1.shp')\n",
    "# osm_shp.crs = {'init' :'epsg:4326'}\n",
    "# osm_shp.rename(columns={'fclass':'amenity'},inplace=True)\n",
    "# osm_shp['lat'] = osm_shp['geometry'].apply(lambda x: x.y)\n",
    "# osm_shp['lon'] = osm_shp['geometry'].apply(lambda x: x.x)"
   ]
  },
  {
   "cell_type": "code",
   "execution_count": 135,
   "metadata": {},
   "outputs": [],
   "source": [
    "# osm_hex_density = from_df_points_to_df_hexagon_cnt(osm_shp, )"
   ]
  },
  {
   "cell_type": "code",
   "execution_count": 136,
   "metadata": {},
   "outputs": [],
   "source": [
    "# osm_hex_density.sort_values(by='cnt', ascending=False).head()"
   ]
  },
  {
   "cell_type": "markdown",
   "metadata": {},
   "source": [
    "### GPS to Hex"
   ]
  },
  {
   "cell_type": "code",
   "execution_count": 137,
   "metadata": {},
   "outputs": [],
   "source": [
    "# gps_hex_density = from_df_points_to_df_hexagon_cnt(frame, lat='latitude', lon='longitude')"
   ]
  },
  {
   "cell_type": "code",
   "execution_count": 138,
   "metadata": {},
   "outputs": [],
   "source": [
    "# gps_hex_density.sort_values(by='cnt', ascending=False).head()"
   ]
  },
  {
   "cell_type": "code",
   "execution_count": 139,
   "metadata": {},
   "outputs": [],
   "source": [
    "# # merge them on hex_col with how='outer'\n",
    "# df_all_hex = pd.merge(osm_hex_density, gps_hex_density, how='outer', on=hex_col, suffixes=('_osm', '_gps'))\\\n",
    "# .drop([\"lat_osm\",\"lon_osm\",\"lat_gps\",\"lon_gps\"], axis=1)\\\n",
    "# .fillna(0)"
   ]
  },
  {
   "cell_type": "code",
   "execution_count": 140,
   "metadata": {},
   "outputs": [],
   "source": [
    "# df_all_hex.head()"
   ]
  }
 ],
 "metadata": {
  "kernelspec": {
   "display_name": "Python 3",
   "language": "python",
   "name": "python3"
  },
  "language_info": {
   "codemirror_mode": {
    "name": "ipython",
    "version": 3
   },
   "file_extension": ".py",
   "mimetype": "text/x-python",
   "name": "python",
   "nbconvert_exporter": "python",
   "pygments_lexer": "ipython3",
   "version": "3.7.3"
  }
 },
 "nbformat": 4,
 "nbformat_minor": 2
}
