{
 "cells": [
  {
   "cell_type": "markdown",
   "metadata": {},
   "source": [
    "import libraries"
   ]
  },
  {
   "cell_type": "code",
   "execution_count": 2,
   "metadata": {},
   "outputs": [],
   "source": [
    "import geohash2\n",
    "import geopandas as gpd\n",
    "import pandas as pd\n",
    "import numpy as np\n",
    "from multiprocessing import Pool\n",
    "from multiprocessing import cpu_count\n",
    "nCores = cpu_count()\n",
    "import time"
   ]
  },
  {
   "cell_type": "markdown",
   "metadata": {},
   "source": [
    "## 1.Get the boundary"
   ]
  },
  {
   "cell_type": "code",
   "execution_count": 3,
   "metadata": {},
   "outputs": [],
   "source": [
    "SHP_PATH = '/home/lefteris/Desktop/trajectories/OSM_and_GeoIndex/data/GADM/gadm36_GBR_shp/gadm36_GBR_2.shp'\n",
    "gdf = gpd.read_file(SHP_PATH, crs = {'init' :'epsg:4326'})"
   ]
  },
  {
   "cell_type": "code",
   "execution_count": 4,
   "metadata": {},
   "outputs": [],
   "source": [
    "# get only the columns we need\n",
    "COL_ID = 'GID_2'\n",
    "COL_NAME = 'NAME_2'\n",
    "COL_GEOM = 'geometry'\n",
    "gdf = gdf[[COL_ID,COL_NAME,COL_GEOM]]\n",
    "# get only the boundary of Greater London\n",
    "gdf= gdf[gdf[COL_NAME].str.contains('London')]\n",
    "gdf.reset_index(drop=True, inplace=True)"
   ]
  },
  {
   "cell_type": "code",
   "execution_count": 5,
   "metadata": {},
   "outputs": [
    {
     "data": {
      "image/svg+xml": [
       "<svg xmlns=\"http://www.w3.org/2000/svg\" xmlns:xlink=\"http://www.w3.org/1999/xlink\" width=\"100.0\" height=\"100.0\" viewBox=\"-0.550364606 51.248394564 0.920570832 0.474860041999996\" preserveAspectRatio=\"xMinYMin meet\"><g transform=\"matrix(1,0,0,-1,0,102.97164917)\"><path fill-rule=\"evenodd\" fill=\"#66cc99\" stroke=\"#555555\" stroke-width=\"0.01841141664\" opacity=\"0.6\" d=\"M 0.16627,51.39855576 L 0.169167,51.38861084 L 0.16712497,51.38362885 L 0.155278,51.35472107 L 0.13111,51.34111023 L 0.119999,51.32416916 L 0.096665,51.31110001 L 0.093889,51.28833008 L 0.06889,51.28248978 L 0.054444,51.28998947 L 0.048334,51.29499817 L 0.0225,51.28971863 L 0.01639,51.3185997 L 0.013167,51.32074356 L 0.0,51.32949829 L -0.026668,51.33082962 L -0.046667,51.31555176 L -0.065557,51.31637955 L -0.084722,51.31110001 L -0.101943,51.29277039 L -0.1240356,51.28971863 L -0.128057,51.28916168 L -0.15111101,51.30305099 L -0.163619,51.31964111 L -0.178333,51.33916092 L -0.188612,51.33972168 L -0.21944401,51.32833099 L -0.21919189,51.33282089 L -0.21805599,51.35305023 L -0.243056,51.37360001 L -0.25410262,51.36838531 L -0.25883117,51.37169647 L -0.28307828,51.37395477 L -0.2914573,51.35313797 L -0.30420882,51.33714294 L -0.31285411,51.32941055 L -0.31991833,51.32309341 L -0.32886109,51.33267975 L -0.33161607,51.33563232 L -0.31725064,51.35446548 L -0.31510291,51.37156677 L -0.30624413,51.3837471 L -0.306676,51.38444138 L -0.311667,51.39249039 L -0.325679,51.39373016 L -0.34333301,51.39416885 L -0.37214574,51.40589523 L -0.37493101,51.4070282 L -0.38437799,51.41372681 L -0.40027699,51.42499924 L -0.43166599,51.43027115 L -0.44027901,51.43804932 L -0.44138801,51.45389175 L -0.45812395,51.45648575 L -0.473611,51.45888901 L -0.47808617,51.4624939 L -0.50549263,51.46284485 L -0.51626939,51.46512222 L -0.51329881,51.47423172 L -0.51396489,51.47476578 L -0.50117481,51.49054718 L -0.48830837,51.48941803 L -0.48444599,51.49443817 L -0.471389,51.54999924 L -0.49340501,51.59098816 L -0.51059043,51.60243225 L -0.49145395,51.6305275 L -0.45509729,51.61145401 L -0.43609428,51.61458588 L -0.43194401,51.61526871 L -0.39976001,51.61481094 L -0.37389001,51.61444092 L -0.35985449,51.6197319 L -0.32083401,51.63444138 L -0.29359299,51.63841629 L -0.25416699,51.64416885 L -0.25165808,51.65075684 L -0.2185795,51.65552902 L -0.2175,51.65415955 L -0.21289995,51.65634918 L -0.200554,51.66222 L -0.17966738,51.6654129 L -0.17333201,51.66638184 L -0.158333,51.67583084 L -0.1557423,51.67919159 L -0.148057,51.68915939 L -0.11352572,51.68616867 L -0.011218,51.67724991 L -0.006944,51.66611099 L -0.012779,51.64999008 L -0.00258,51.64665222 L 0.0,51.64580917 L 0.02139,51.63694 L 0.027601,51.62652588 L 0.030832,51.62110901 L 0.083888,51.60110092 L 0.095555,51.60277939 L 0.112223,51.61555099 L 0.148513,51.61749649 L 0.18472201,51.61943817 L 0.2196566,51.62672424 L 0.23139,51.62916946 L 0.248055,51.627491 L 0.251111,51.61693954 L 0.27055699,51.59360886 L 0.284446,51.58388901 L 0.30833301,51.57889175 L 0.31610999,51.56222153 L 0.319911,51.55799866 L 0.33611101,51.53998947 L 0.28000101,51.52693939 L 0.27277899,51.51665878 L 0.247777,51.52000046 L 0.242222,51.49888992 L 0.224682,51.48907089 L 0.218889,51.4858284 L 0.216666,51.47777939 L 0.223611,51.47333145 L 0.21139,51.4569397 L 0.18110999,51.43777084 L 0.160834,51.41722107 L 0.16627,51.39855576 z\" /></g></svg>"
      ],
      "text/plain": [
       "<shapely.geometry.polygon.Polygon at 0x7f17814e3940>"
      ]
     },
     "execution_count": 5,
     "metadata": {},
     "output_type": "execute_result"
    }
   ],
   "source": [
    "gdf.geometry[0]"
   ]
  },
  {
   "cell_type": "markdown",
   "metadata": {},
   "source": [
    "## 2. Convert the boundary into a geohash list"
   ]
  },
  {
   "cell_type": "code",
   "execution_count": 6,
   "metadata": {},
   "outputs": [],
   "source": [
    "HASH_SIZE = 7 #geohash length\n",
    "hash_col = 'hash' + str(HASH_SIZE)"
   ]
  },
  {
   "cell_type": "code",
   "execution_count": 7,
   "metadata": {},
   "outputs": [],
   "source": [
    "from polygon_geohasher.polygon_geohasher import polygon_to_geohashes\n",
    "from shapely import geometry"
   ]
  },
  {
   "cell_type": "code",
   "execution_count": 8,
   "metadata": {},
   "outputs": [],
   "source": [
    "gdf_geohash_list = polygon_to_geohashes(gdf.geometry[0], HASH_SIZE, False)"
   ]
  },
  {
   "cell_type": "code",
   "execution_count": 9,
   "metadata": {},
   "outputs": [],
   "source": [
    "# create an empty dataframe with all the hex\n",
    "all_geohash_dict = {hash_col:gdf_geohash_list}"
   ]
  },
  {
   "cell_type": "code",
   "execution_count": 10,
   "metadata": {},
   "outputs": [],
   "source": [
    "all_geohash_df = pd.DataFrame(gdf_geohash_list)"
   ]
  },
  {
   "cell_type": "code",
   "execution_count": 11,
   "metadata": {},
   "outputs": [],
   "source": [
    "all_geohash_df.rename(columns={0:hash_col},inplace=True)"
   ]
  },
  {
   "cell_type": "code",
   "execution_count": null,
   "metadata": {},
   "outputs": [],
   "source": []
  },
  {
   "cell_type": "code",
   "execution_count": null,
   "metadata": {},
   "outputs": [],
   "source": []
  },
  {
   "cell_type": "markdown",
   "metadata": {},
   "source": [
    "## 3. Load GPS events for this boundary"
   ]
  },
  {
   "cell_type": "code",
   "execution_count": 12,
   "metadata": {},
   "outputs": [],
   "source": [
    "gps_path = \"/home/lefteris/Desktop/trajectories/data/complement/complementics/city=london/year=2018/month=12/day=01\""
   ]
  },
  {
   "cell_type": "code",
   "execution_count": 13,
   "metadata": {},
   "outputs": [],
   "source": [
    "import glob\n",
    "\n",
    "all_files = glob.glob(gps_path + \"/*.parquet\")\n",
    "\n",
    "li = []\n",
    "\n",
    "for filename in all_files:\n",
    "    df = pd.read_parquet(filename)\n",
    "    li.append(df)\n",
    "\n",
    "frame = pd.concat(li, axis=0, ignore_index=True)\n",
    "frame.drop(['label'],axis=1, inplace=True)"
   ]
  },
  {
   "cell_type": "code",
   "execution_count": 17,
   "metadata": {},
   "outputs": [
    {
     "data": {
      "text/html": [
       "<div>\n",
       "<style scoped>\n",
       "    .dataframe tbody tr th:only-of-type {\n",
       "        vertical-align: middle;\n",
       "    }\n",
       "\n",
       "    .dataframe tbody tr th {\n",
       "        vertical-align: top;\n",
       "    }\n",
       "\n",
       "    .dataframe thead th {\n",
       "        text-align: right;\n",
       "    }\n",
       "</style>\n",
       "<table border=\"1\" class=\"dataframe\">\n",
       "  <thead>\n",
       "    <tr style=\"text-align: right;\">\n",
       "      <th></th>\n",
       "      <th>device_id</th>\n",
       "      <th>timestamp</th>\n",
       "      <th>latitude</th>\n",
       "      <th>longitude</th>\n",
       "    </tr>\n",
       "  </thead>\n",
       "  <tbody>\n",
       "    <tr>\n",
       "      <th>2111011</th>\n",
       "      <td>43362e82-f876-4d43-a2be-e32dfe2299ea</td>\n",
       "      <td>1543658633000</td>\n",
       "      <td>51.415126</td>\n",
       "      <td>-0.074280</td>\n",
       "    </tr>\n",
       "    <tr>\n",
       "      <th>292223</th>\n",
       "      <td>14c7ce1b-096e-4f7c-9c94-6576903367d6</td>\n",
       "      <td>1543699287000</td>\n",
       "      <td>51.557584</td>\n",
       "      <td>-0.074468</td>\n",
       "    </tr>\n",
       "    <tr>\n",
       "      <th>1649374</th>\n",
       "      <td>26093fff-bb4a-43df-af7c-25b041fafedc</td>\n",
       "      <td>1543691606000</td>\n",
       "      <td>51.474649</td>\n",
       "      <td>0.189334</td>\n",
       "    </tr>\n",
       "    <tr>\n",
       "      <th>509552</th>\n",
       "      <td>60f2d61b-ec94-442b-a944-0b759a8966a6</td>\n",
       "      <td>1543678833000</td>\n",
       "      <td>51.616700</td>\n",
       "      <td>0.366700</td>\n",
       "    </tr>\n",
       "    <tr>\n",
       "      <th>1878725</th>\n",
       "      <td>4c991de4-95c5-46c5-88cc-eded3937090f</td>\n",
       "      <td>1543625647000</td>\n",
       "      <td>51.571332</td>\n",
       "      <td>-0.089849</td>\n",
       "    </tr>\n",
       "  </tbody>\n",
       "</table>\n",
       "</div>"
      ],
      "text/plain": [
       "                                    device_id      timestamp   latitude  \\\n",
       "2111011  43362e82-f876-4d43-a2be-e32dfe2299ea  1543658633000  51.415126   \n",
       "292223   14c7ce1b-096e-4f7c-9c94-6576903367d6  1543699287000  51.557584   \n",
       "1649374  26093fff-bb4a-43df-af7c-25b041fafedc  1543691606000  51.474649   \n",
       "509552   60f2d61b-ec94-442b-a944-0b759a8966a6  1543678833000  51.616700   \n",
       "1878725  4c991de4-95c5-46c5-88cc-eded3937090f  1543625647000  51.571332   \n",
       "\n",
       "         longitude  \n",
       "2111011  -0.074280  \n",
       "292223   -0.074468  \n",
       "1649374   0.189334  \n",
       "509552    0.366700  \n",
       "1878725  -0.089849  "
      ]
     },
     "execution_count": 17,
     "metadata": {},
     "output_type": "execute_result"
    }
   ],
   "source": [
    "frame.sample(5)"
   ]
  },
  {
   "cell_type": "code",
   "execution_count": 34,
   "metadata": {},
   "outputs": [],
   "source": [
    "# geohash2.decode(geohash2.encode(51.539400, -0.041400))"
   ]
  },
  {
   "cell_type": "code",
   "execution_count": 33,
   "metadata": {},
   "outputs": [],
   "source": [
    "# geohash2.decode_exactly(geohash2.encode(51.539400, -0.041400))"
   ]
  },
  {
   "cell_type": "markdown",
   "metadata": {},
   "source": [
    "### Store hex id, hex lat, hex lon and if it falls within the boundary"
   ]
  },
  {
   "cell_type": "code",
   "execution_count": 40,
   "metadata": {},
   "outputs": [],
   "source": [
    "# split the dataframe into chunks for parallelization\n",
    "frame_split = np.array_split(frame, nCores)\n",
    "\n",
    "def process(df):\n",
    "    df[hash_col] = df.apply(lambda x: geohash2.encode(x['latitude'], x['longitude'], HASH_SIZE), axis=1)\n",
    "    df[hash_col+\"_lat\"] = df.apply(lambda x: geohash2.decode_exactly(x[hash_col])[0], axis=1)\n",
    "    df[hash_col+\"_lon\"] = df.apply(lambda x: geohash2.decode_exactly(x[hash_col])[1], axis=1)\n",
    "    df['within'] = df.apply(lambda x: True if x[hash_col] in gdf_geohash_list else False, axis=1)\n",
    "    return df\n",
    "\n",
    "# multi cores with Multiprocessing\n",
    "with Pool(processes=nCores) as pool1:\n",
    "    start = time.time()\n",
    "    new_frame = pd.concat(pool1.map(process, frame_split)).reset_index(drop=True)\n",
    "    end = round(time.time() - start, 3)"
   ]
  },
  {
   "cell_type": "code",
   "execution_count": 47,
   "metadata": {},
   "outputs": [
    {
     "name": "stderr",
     "output_type": "stream",
     "text": [
      "/home/lefteris/anaconda3/envs/geoindex/lib/python3.7/site-packages/pandas/core/frame.py:3940: SettingWithCopyWarning: \n",
      "A value is trying to be set on a copy of a slice from a DataFrame\n",
      "\n",
      "See the caveats in the documentation: http://pandas.pydata.org/pandas-docs/stable/indexing.html#indexing-view-versus-copy\n",
      "  errors=errors)\n"
     ]
    }
   ],
   "source": [
    "gps_in_london_hash = new_frame[new_frame.within==True]\n",
    "gps_in_london_hash.drop(columns=[\"within\"], inplace=True)"
   ]
  },
  {
   "cell_type": "markdown",
   "metadata": {},
   "source": [
    "csv checkpoint"
   ]
  },
  {
   "cell_type": "code",
   "execution_count": 48,
   "metadata": {},
   "outputs": [],
   "source": [
    "# save it as a csv so we dont need to do that every time\n",
    "gps_in_london_hash.to_csv('/home/lefteris/Desktop/trajectories/data/7_gps_events_in_london_geohash_list.csv', index=False)"
   ]
  },
  {
   "cell_type": "markdown",
   "metadata": {},
   "source": [
    "### store gps density for all geohash within the boundary NEEDS REFINEMENT !!!!"
   ]
  },
  {
   "cell_type": "code",
   "execution_count": 46,
   "metadata": {},
   "outputs": [],
   "source": [
    "# # store gps density for each geohash\n",
    "# gps_hash_density = from_df_points_to_df_geohash_cnt(gps_in_london_hash, HASH_SIZE, lat='latitude', lon='longitude')\n",
    "# len(gps_hash_density)"
   ]
  },
  {
   "cell_type": "code",
   "execution_count": 47,
   "metadata": {},
   "outputs": [],
   "source": [
    "# # merge them with the dataframe that contains all hexagons of boundary\n",
    "# df_all_hash = pd.merge(gps_hash_density, all_geohash_df, how='right', on=hash_col)\n",
    "# df_all_hash.fillna(0,inplace=True)\n",
    "# df_all_hash.drop(['lat','lon'],axis=1, inplace=True)"
   ]
  },
  {
   "cell_type": "markdown",
   "metadata": {},
   "source": [
    "csv checkpoint"
   ]
  },
  {
   "cell_type": "code",
   "execution_count": 48,
   "metadata": {},
   "outputs": [],
   "source": [
    "# df_all_hash.to_csv('/home/lefteris/Desktop/trajectories/data/7_all_geohash_gps_density.csv')"
   ]
  },
  {
   "cell_type": "markdown",
   "metadata": {},
   "source": [
    "### Add day and time num, con, sin"
   ]
  },
  {
   "cell_type": "code",
   "execution_count": 77,
   "metadata": {},
   "outputs": [],
   "source": [
    "import math"
   ]
  },
  {
   "cell_type": "code",
   "execution_count": 78,
   "metadata": {},
   "outputs": [],
   "source": [
    "def timecat_timenum_timecos_timesin(num_minutes):\n",
    "    # Time of the start of the bin\n",
    "    time_bin = num_minutes // 30     # eg. 1005\n",
    "    hour_bin = num_minutes // 60                  # eg. 16\n",
    "    min_bin = (time_bin * 30) % 60  # eg. 45\n",
    "\n",
    "    #get time_cat\n",
    "    hour_str = str(hour_bin) if hour_bin / 10 > 0 else \"0\" + str(hour_bin)  # eg. \"16\"\n",
    "    min_str = str(min_bin) if min_bin / 10 > 0 else \"0\" + str(min_bin)      # eg. \"45\"\n",
    "    time_cat = hour_str + \":\" + min_str                                     # eg. \"16:45\"\n",
    "\n",
    "    # Get a floating point representation of the center of the time bin\n",
    "    time_num = (hour_bin*60 + min_bin + 30 / 2.0)/(60*24)      # eg. 0.7065972222222222\n",
    "\n",
    "    time_cos = math.cos(time_num * 2 * math.pi)\n",
    "    time_sin = math.sin(time_num * 2 * math.pi)\n",
    "\n",
    "    return time_cat, time_num, time_cos, time_sin"
   ]
  },
  {
   "cell_type": "code",
   "execution_count": 81,
   "metadata": {},
   "outputs": [],
   "source": [
    "# split the dataframe into chunks for parallelization\n",
    "gps_in_london_hash_split = np.array_split(gps_in_london_hash, nCores)\n",
    "\n",
    "def get_timecat_timenum_timecos_timesin(df):\n",
    "    df['date'] = df.apply(lambda x: pd.to_datetime(round(x['timestamp']/1000), unit='s'), axis=1)\n",
    "    df['num_minutes'] = df.apply(lambda x : x['date'].hour * 60 + x['date'].minute , axis=1)\n",
    "    df['time_list'] = df.apply(lambda x : timecat_timenum_timecos_timesin(x['num_minutes']),axis=1)\n",
    "    df['time_cat'] = df.apply(lambda x: x['time_list'][0],axis=1)\n",
    "    df['time_num'] = df.apply(lambda x: x['time_list'][1],axis=1)\n",
    "    df['time_cos'] = df.apply(lambda x: x['time_list'][2],axis=1)\n",
    "    df['time_sin'] = df.apply(lambda x: x['time_list'][3],axis=1)\n",
    "    df['day_num'] = df.apply(lambda x: (x['date'].dayofweek + x['time_num'])/7.0,axis=1)\n",
    "    df['day_cos'] = df.apply(lambda x: math.cos(x['day_num']*2*math.pi),axis=1)\n",
    "    df['day_sin'] = df.apply(lambda x: math.sin(x['day_num']*2*math.pi),axis=1)\n",
    "    return df.drop([\"time_list\"], axis=1)\n",
    "\n",
    "# multi cores with Multiprocessing\n",
    "with Pool(processes=nCores) as pool1:\n",
    "    start = time.time()\n",
    "    new_gps_in_london_hash_split = pd.concat(pool1.map(get_timecat_timenum_timecos_timesin, gps_in_london_hash_split)).reset_index(drop=True)\n",
    "    end = round(time.time() - start, 3)"
   ]
  },
  {
   "cell_type": "code",
   "execution_count": 82,
   "metadata": {},
   "outputs": [
    {
     "data": {
      "text/html": [
       "<div>\n",
       "<style scoped>\n",
       "    .dataframe tbody tr th:only-of-type {\n",
       "        vertical-align: middle;\n",
       "    }\n",
       "\n",
       "    .dataframe tbody tr th {\n",
       "        vertical-align: top;\n",
       "    }\n",
       "\n",
       "    .dataframe thead th {\n",
       "        text-align: right;\n",
       "    }\n",
       "</style>\n",
       "<table border=\"1\" class=\"dataframe\">\n",
       "  <thead>\n",
       "    <tr style=\"text-align: right;\">\n",
       "      <th></th>\n",
       "      <th>device_id</th>\n",
       "      <th>timestamp</th>\n",
       "      <th>latitude</th>\n",
       "      <th>longitude</th>\n",
       "      <th>hash7</th>\n",
       "      <th>hash7_lat</th>\n",
       "      <th>hash7_lon</th>\n",
       "      <th>date</th>\n",
       "      <th>num_minutes</th>\n",
       "      <th>time_cat</th>\n",
       "      <th>time_num</th>\n",
       "      <th>time_cos</th>\n",
       "      <th>time_sin</th>\n",
       "      <th>day_num</th>\n",
       "      <th>day_cos</th>\n",
       "      <th>day_sin</th>\n",
       "    </tr>\n",
       "  </thead>\n",
       "  <tbody>\n",
       "    <tr>\n",
       "      <th>0</th>\n",
       "      <td>7712ef79-4afb-4fa0-ba5d-bffbb14b0c51</td>\n",
       "      <td>1543678127000</td>\n",
       "      <td>51.357365</td>\n",
       "      <td>-0.188455</td>\n",
       "      <td>gcpu5tq</td>\n",
       "      <td>51.36</td>\n",
       "      <td>-0.19</td>\n",
       "      <td>2018-12-01 15:28:47</td>\n",
       "      <td>928</td>\n",
       "      <td>15:00</td>\n",
       "      <td>0.635417</td>\n",
       "      <td>-0.659346</td>\n",
       "      <td>-0.751840</td>\n",
       "      <td>0.805060</td>\n",
       "      <td>0.339090</td>\n",
       "      <td>-0.940754</td>\n",
       "    </tr>\n",
       "    <tr>\n",
       "      <th>1</th>\n",
       "      <td>80248174-cca2-4c00-95ba-5117b1cfa020</td>\n",
       "      <td>1543697504000</td>\n",
       "      <td>51.487526</td>\n",
       "      <td>-0.368841</td>\n",
       "      <td>gcpszt5</td>\n",
       "      <td>51.49</td>\n",
       "      <td>-0.37</td>\n",
       "      <td>2018-12-01 20:51:44</td>\n",
       "      <td>1251</td>\n",
       "      <td>20:30</td>\n",
       "      <td>0.864583</td>\n",
       "      <td>0.659346</td>\n",
       "      <td>-0.751840</td>\n",
       "      <td>0.837798</td>\n",
       "      <td>0.524092</td>\n",
       "      <td>-0.851662</td>\n",
       "    </tr>\n",
       "    <tr>\n",
       "      <th>2</th>\n",
       "      <td>44439405-788a-4adf-af92-a7ddd308b226</td>\n",
       "      <td>1543689397000</td>\n",
       "      <td>51.502227</td>\n",
       "      <td>-0.141735</td>\n",
       "      <td>gcpuuz8</td>\n",
       "      <td>51.5</td>\n",
       "      <td>-0.14</td>\n",
       "      <td>2018-12-01 18:36:37</td>\n",
       "      <td>1116</td>\n",
       "      <td>18:30</td>\n",
       "      <td>0.781250</td>\n",
       "      <td>0.195090</td>\n",
       "      <td>-0.980785</td>\n",
       "      <td>0.825893</td>\n",
       "      <td>0.458982</td>\n",
       "      <td>-0.888446</td>\n",
       "    </tr>\n",
       "    <tr>\n",
       "      <th>3</th>\n",
       "      <td>ee500265-0fab-4526-852e-4a82e5737f9f</td>\n",
       "      <td>1543702274000</td>\n",
       "      <td>51.471806</td>\n",
       "      <td>-0.129603</td>\n",
       "      <td>gcpuv41</td>\n",
       "      <td>51.47</td>\n",
       "      <td>-0.13</td>\n",
       "      <td>2018-12-01 22:11:14</td>\n",
       "      <td>1331</td>\n",
       "      <td>22:00</td>\n",
       "      <td>0.927083</td>\n",
       "      <td>0.896873</td>\n",
       "      <td>-0.442289</td>\n",
       "      <td>0.846726</td>\n",
       "      <td>0.571021</td>\n",
       "      <td>-0.820936</td>\n",
       "    </tr>\n",
       "    <tr>\n",
       "      <th>4</th>\n",
       "      <td>741a6dff-97d8-4602-a2ef-5a387efff9e8</td>\n",
       "      <td>1543676146000</td>\n",
       "      <td>51.517343</td>\n",
       "      <td>-0.399792</td>\n",
       "      <td>gcptnfk</td>\n",
       "      <td>51.52</td>\n",
       "      <td>-0.4</td>\n",
       "      <td>2018-12-01 14:55:46</td>\n",
       "      <td>895</td>\n",
       "      <td>14:30</td>\n",
       "      <td>0.614583</td>\n",
       "      <td>-0.751840</td>\n",
       "      <td>-0.659346</td>\n",
       "      <td>0.802083</td>\n",
       "      <td>0.321439</td>\n",
       "      <td>-0.946930</td>\n",
       "    </tr>\n",
       "  </tbody>\n",
       "</table>\n",
       "</div>"
      ],
      "text/plain": [
       "                              device_id      timestamp   latitude  longitude  \\\n",
       "0  7712ef79-4afb-4fa0-ba5d-bffbb14b0c51  1543678127000  51.357365  -0.188455   \n",
       "1  80248174-cca2-4c00-95ba-5117b1cfa020  1543697504000  51.487526  -0.368841   \n",
       "2  44439405-788a-4adf-af92-a7ddd308b226  1543689397000  51.502227  -0.141735   \n",
       "3  ee500265-0fab-4526-852e-4a82e5737f9f  1543702274000  51.471806  -0.129603   \n",
       "4  741a6dff-97d8-4602-a2ef-5a387efff9e8  1543676146000  51.517343  -0.399792   \n",
       "\n",
       "     hash7 hash7_lat hash7_lon                date  num_minutes time_cat  \\\n",
       "0  gcpu5tq     51.36     -0.19 2018-12-01 15:28:47          928    15:00   \n",
       "1  gcpszt5     51.49     -0.37 2018-12-01 20:51:44         1251    20:30   \n",
       "2  gcpuuz8      51.5     -0.14 2018-12-01 18:36:37         1116    18:30   \n",
       "3  gcpuv41     51.47     -0.13 2018-12-01 22:11:14         1331    22:00   \n",
       "4  gcptnfk     51.52      -0.4 2018-12-01 14:55:46          895    14:30   \n",
       "\n",
       "   time_num  time_cos  time_sin   day_num   day_cos   day_sin  \n",
       "0  0.635417 -0.659346 -0.751840  0.805060  0.339090 -0.940754  \n",
       "1  0.864583  0.659346 -0.751840  0.837798  0.524092 -0.851662  \n",
       "2  0.781250  0.195090 -0.980785  0.825893  0.458982 -0.888446  \n",
       "3  0.927083  0.896873 -0.442289  0.846726  0.571021 -0.820936  \n",
       "4  0.614583 -0.751840 -0.659346  0.802083  0.321439 -0.946930  "
      ]
     },
     "execution_count": 82,
     "metadata": {},
     "output_type": "execute_result"
    }
   ],
   "source": [
    "new_gps_in_london_hash_split.head()"
   ]
  },
  {
   "cell_type": "markdown",
   "metadata": {},
   "source": [
    "csv checkpoint"
   ]
  },
  {
   "cell_type": "code",
   "execution_count": 83,
   "metadata": {},
   "outputs": [],
   "source": [
    "# save it as a csv so we dont need to do that every time\n",
    "gps_in_london_hash.to_csv('/home/lefteris/Desktop/trajectories/data/7_gps_events_in_london_geohash_list.csv', index=False)"
   ]
  },
  {
   "cell_type": "markdown",
   "metadata": {},
   "source": [
    "### Copy the gps density in each row for the specific geohash"
   ]
  },
  {
   "cell_type": "code",
   "execution_count": 84,
   "metadata": {},
   "outputs": [],
   "source": [
    "# set index the hex id\n",
    "df_all_hash.set_index(hash_col, inplace=True)"
   ]
  },
  {
   "cell_type": "code",
   "execution_count": 85,
   "metadata": {},
   "outputs": [],
   "source": [
    "# split the dataframe into chunks for parallelization\n",
    "new_new_gps_in_london_hash_split = np.array_split(new_gps_in_london_hash_split, nCores)\n",
    "\n",
    "def get_cnt_for_every_hash(df):\n",
    "    df['cnt'] = df.apply(lambda x: int(df_all_hash.loc[x[hash_col]].cnt),axis=1)\n",
    "    return df\n",
    "\n",
    "# multi cores with Multiprocessing\n",
    "with Pool(processes=nCores) as pool1:\n",
    "    start = time.time()\n",
    "    last_london_hash_split = pd.concat(pool1.map(get_cnt_for_every_hash, new_new_gps_in_london_hash_split)).reset_index(drop=True)\n",
    "    end = round(time.time() - start, 3)"
   ]
  },
  {
   "cell_type": "code",
   "execution_count": 86,
   "metadata": {},
   "outputs": [
    {
     "data": {
      "text/html": [
       "<div>\n",
       "<style scoped>\n",
       "    .dataframe tbody tr th:only-of-type {\n",
       "        vertical-align: middle;\n",
       "    }\n",
       "\n",
       "    .dataframe tbody tr th {\n",
       "        vertical-align: top;\n",
       "    }\n",
       "\n",
       "    .dataframe thead th {\n",
       "        text-align: right;\n",
       "    }\n",
       "</style>\n",
       "<table border=\"1\" class=\"dataframe\">\n",
       "  <thead>\n",
       "    <tr style=\"text-align: right;\">\n",
       "      <th></th>\n",
       "      <th>device_id</th>\n",
       "      <th>timestamp</th>\n",
       "      <th>latitude</th>\n",
       "      <th>longitude</th>\n",
       "      <th>hash7</th>\n",
       "      <th>hash7_lat</th>\n",
       "      <th>hash7_lon</th>\n",
       "      <th>date</th>\n",
       "      <th>num_minutes</th>\n",
       "      <th>time_cat</th>\n",
       "      <th>time_num</th>\n",
       "      <th>time_cos</th>\n",
       "      <th>time_sin</th>\n",
       "      <th>day_num</th>\n",
       "      <th>day_cos</th>\n",
       "      <th>day_sin</th>\n",
       "      <th>cnt</th>\n",
       "    </tr>\n",
       "  </thead>\n",
       "  <tbody>\n",
       "    <tr>\n",
       "      <th>0</th>\n",
       "      <td>7712ef79-4afb-4fa0-ba5d-bffbb14b0c51</td>\n",
       "      <td>1543678127000</td>\n",
       "      <td>51.357365</td>\n",
       "      <td>-0.188455</td>\n",
       "      <td>gcpu5tq</td>\n",
       "      <td>51.36</td>\n",
       "      <td>-0.19</td>\n",
       "      <td>2018-12-01 15:28:47</td>\n",
       "      <td>928</td>\n",
       "      <td>15:00</td>\n",
       "      <td>0.635417</td>\n",
       "      <td>-0.659346</td>\n",
       "      <td>-0.751840</td>\n",
       "      <td>0.805060</td>\n",
       "      <td>0.339090</td>\n",
       "      <td>-0.940754</td>\n",
       "      <td>180</td>\n",
       "    </tr>\n",
       "    <tr>\n",
       "      <th>1</th>\n",
       "      <td>80248174-cca2-4c00-95ba-5117b1cfa020</td>\n",
       "      <td>1543697504000</td>\n",
       "      <td>51.487526</td>\n",
       "      <td>-0.368841</td>\n",
       "      <td>gcpszt5</td>\n",
       "      <td>51.49</td>\n",
       "      <td>-0.37</td>\n",
       "      <td>2018-12-01 20:51:44</td>\n",
       "      <td>1251</td>\n",
       "      <td>20:30</td>\n",
       "      <td>0.864583</td>\n",
       "      <td>0.659346</td>\n",
       "      <td>-0.751840</td>\n",
       "      <td>0.837798</td>\n",
       "      <td>0.524092</td>\n",
       "      <td>-0.851662</td>\n",
       "      <td>234</td>\n",
       "    </tr>\n",
       "    <tr>\n",
       "      <th>2</th>\n",
       "      <td>44439405-788a-4adf-af92-a7ddd308b226</td>\n",
       "      <td>1543689397000</td>\n",
       "      <td>51.502227</td>\n",
       "      <td>-0.141735</td>\n",
       "      <td>gcpuuz8</td>\n",
       "      <td>51.5</td>\n",
       "      <td>-0.14</td>\n",
       "      <td>2018-12-01 18:36:37</td>\n",
       "      <td>1116</td>\n",
       "      <td>18:30</td>\n",
       "      <td>0.781250</td>\n",
       "      <td>0.195090</td>\n",
       "      <td>-0.980785</td>\n",
       "      <td>0.825893</td>\n",
       "      <td>0.458982</td>\n",
       "      <td>-0.888446</td>\n",
       "      <td>119</td>\n",
       "    </tr>\n",
       "    <tr>\n",
       "      <th>3</th>\n",
       "      <td>ee500265-0fab-4526-852e-4a82e5737f9f</td>\n",
       "      <td>1543702274000</td>\n",
       "      <td>51.471806</td>\n",
       "      <td>-0.129603</td>\n",
       "      <td>gcpuv41</td>\n",
       "      <td>51.47</td>\n",
       "      <td>-0.13</td>\n",
       "      <td>2018-12-01 22:11:14</td>\n",
       "      <td>1331</td>\n",
       "      <td>22:00</td>\n",
       "      <td>0.927083</td>\n",
       "      <td>0.896873</td>\n",
       "      <td>-0.442289</td>\n",
       "      <td>0.846726</td>\n",
       "      <td>0.571021</td>\n",
       "      <td>-0.820936</td>\n",
       "      <td>13</td>\n",
       "    </tr>\n",
       "    <tr>\n",
       "      <th>4</th>\n",
       "      <td>741a6dff-97d8-4602-a2ef-5a387efff9e8</td>\n",
       "      <td>1543676146000</td>\n",
       "      <td>51.517343</td>\n",
       "      <td>-0.399792</td>\n",
       "      <td>gcptnfk</td>\n",
       "      <td>51.52</td>\n",
       "      <td>-0.4</td>\n",
       "      <td>2018-12-01 14:55:46</td>\n",
       "      <td>895</td>\n",
       "      <td>14:30</td>\n",
       "      <td>0.614583</td>\n",
       "      <td>-0.751840</td>\n",
       "      <td>-0.659346</td>\n",
       "      <td>0.802083</td>\n",
       "      <td>0.321439</td>\n",
       "      <td>-0.946930</td>\n",
       "      <td>54</td>\n",
       "    </tr>\n",
       "  </tbody>\n",
       "</table>\n",
       "</div>"
      ],
      "text/plain": [
       "                              device_id      timestamp   latitude  longitude  \\\n",
       "0  7712ef79-4afb-4fa0-ba5d-bffbb14b0c51  1543678127000  51.357365  -0.188455   \n",
       "1  80248174-cca2-4c00-95ba-5117b1cfa020  1543697504000  51.487526  -0.368841   \n",
       "2  44439405-788a-4adf-af92-a7ddd308b226  1543689397000  51.502227  -0.141735   \n",
       "3  ee500265-0fab-4526-852e-4a82e5737f9f  1543702274000  51.471806  -0.129603   \n",
       "4  741a6dff-97d8-4602-a2ef-5a387efff9e8  1543676146000  51.517343  -0.399792   \n",
       "\n",
       "     hash7 hash7_lat hash7_lon                date  num_minutes time_cat  \\\n",
       "0  gcpu5tq     51.36     -0.19 2018-12-01 15:28:47          928    15:00   \n",
       "1  gcpszt5     51.49     -0.37 2018-12-01 20:51:44         1251    20:30   \n",
       "2  gcpuuz8      51.5     -0.14 2018-12-01 18:36:37         1116    18:30   \n",
       "3  gcpuv41     51.47     -0.13 2018-12-01 22:11:14         1331    22:00   \n",
       "4  gcptnfk     51.52      -0.4 2018-12-01 14:55:46          895    14:30   \n",
       "\n",
       "   time_num  time_cos  time_sin   day_num   day_cos   day_sin  cnt  \n",
       "0  0.635417 -0.659346 -0.751840  0.805060  0.339090 -0.940754  180  \n",
       "1  0.864583  0.659346 -0.751840  0.837798  0.524092 -0.851662  234  \n",
       "2  0.781250  0.195090 -0.980785  0.825893  0.458982 -0.888446  119  \n",
       "3  0.927083  0.896873 -0.442289  0.846726  0.571021 -0.820936   13  \n",
       "4  0.614583 -0.751840 -0.659346  0.802083  0.321439 -0.946930   54  "
      ]
     },
     "execution_count": 86,
     "metadata": {},
     "output_type": "execute_result"
    }
   ],
   "source": [
    "last_london_hash_split.head()"
   ]
  },
  {
   "cell_type": "markdown",
   "metadata": {},
   "source": [
    "csv checkpoint"
   ]
  },
  {
   "cell_type": "code",
   "execution_count": 87,
   "metadata": {},
   "outputs": [],
   "source": [
    "# save it as a csv so we dont need to do that every time\n",
    "last_london_hash_split.to_csv('/home/lefteris/Desktop/trajectories/data/7_gps_events_in_london_geohash_list.csv', index=False)"
   ]
  }
 ],
 "metadata": {
  "kernelspec": {
   "display_name": "Python 3",
   "language": "python",
   "name": "python3"
  },
  "language_info": {
   "codemirror_mode": {
    "name": "ipython",
    "version": 3
   },
   "file_extension": ".py",
   "mimetype": "text/x-python",
   "name": "python",
   "nbconvert_exporter": "python",
   "pygments_lexer": "ipython3",
   "version": "3.7.3"
  }
 },
 "nbformat": 4,
 "nbformat_minor": 2
}
