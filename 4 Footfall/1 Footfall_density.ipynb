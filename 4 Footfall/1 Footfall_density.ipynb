{
 "cells": [
  {
   "cell_type": "markdown",
   "metadata": {},
   "source": [
    "the data output of this jupyter notebook will not be used for the random forest as it counts overall density for each hexagon throughout the whole period that covers our GPS event dataset whereas the random forest will try to forecast footfall density for each hexagon per hour"
   ]
  },
  {
   "cell_type": "markdown",
   "metadata": {},
   "source": [
    "import libraries"
   ]
  },
  {
   "cell_type": "code",
   "execution_count": 1,
   "metadata": {},
   "outputs": [],
   "source": [
    "import pandas as pd\n",
    "import sys"
   ]
  },
  {
   "cell_type": "markdown",
   "metadata": {},
   "source": [
    "import project functions"
   ]
  },
  {
   "cell_type": "code",
   "execution_count": 2,
   "metadata": {},
   "outputs": [],
   "source": [
    "sys.path.append(\"..\")\n",
    "from src.geoIndexFunctions import *"
   ]
  },
  {
   "cell_type": "markdown",
   "metadata": {},
   "source": [
    "### load gps events with hex"
   ]
  },
  {
   "cell_type": "code",
   "execution_count": 7,
   "metadata": {},
   "outputs": [],
   "source": [
    "gps_in_london_hex = pd.read_parquet('../../data/geodata/paul/mixed/gps_events_with_geoindex_within.parquet.gzip')"
   ]
  },
  {
   "cell_type": "code",
   "execution_count": 8,
   "metadata": {},
   "outputs": [
    {
     "data": {
      "text/plain": [
       "7649570"
      ]
     },
     "execution_count": 8,
     "metadata": {},
     "output_type": "execute_result"
    }
   ],
   "source": [
    "len(gps_in_london_hex)"
   ]
  },
  {
   "cell_type": "code",
   "execution_count": 12,
   "metadata": {},
   "outputs": [
    {
     "data": {
      "text/html": [
       "<div>\n",
       "<style scoped>\n",
       "    .dataframe tbody tr th:only-of-type {\n",
       "        vertical-align: middle;\n",
       "    }\n",
       "\n",
       "    .dataframe tbody tr th {\n",
       "        vertical-align: top;\n",
       "    }\n",
       "\n",
       "    .dataframe thead th {\n",
       "        text-align: right;\n",
       "    }\n",
       "</style>\n",
       "<table border=\"1\" class=\"dataframe\">\n",
       "  <thead>\n",
       "    <tr style=\"text-align: right;\">\n",
       "      <th></th>\n",
       "      <th>timestamp</th>\n",
       "      <th>latitude</th>\n",
       "      <th>longitude</th>\n",
       "      <th>country</th>\n",
       "      <th>hex9</th>\n",
       "      <th>hex9_lat</th>\n",
       "      <th>hex9_lon</th>\n",
       "    </tr>\n",
       "  </thead>\n",
       "  <tbody>\n",
       "    <tr>\n",
       "      <th>148775</th>\n",
       "      <td>1554141600000</td>\n",
       "      <td>51.399067</td>\n",
       "      <td>-0.172851</td>\n",
       "      <td>GBR</td>\n",
       "      <td>89194ac368fffff</td>\n",
       "      <td>51.399517</td>\n",
       "      <td>-0.173475</td>\n",
       "    </tr>\n",
       "    <tr>\n",
       "      <th>6954160</th>\n",
       "      <td>1554307200000</td>\n",
       "      <td>51.558666</td>\n",
       "      <td>-0.380353</td>\n",
       "      <td>GBR</td>\n",
       "      <td>89195daea5bffff</td>\n",
       "      <td>51.559407</td>\n",
       "      <td>-0.381898</td>\n",
       "    </tr>\n",
       "    <tr>\n",
       "      <th>3732401</th>\n",
       "      <td>1555056000000</td>\n",
       "      <td>51.485600</td>\n",
       "      <td>-0.070400</td>\n",
       "      <td>GBR</td>\n",
       "      <td>89194ad06d3ffff</td>\n",
       "      <td>51.486487</td>\n",
       "      <td>-0.071413</td>\n",
       "    </tr>\n",
       "    <tr>\n",
       "      <th>6886908</th>\n",
       "      <td>1555041600000</td>\n",
       "      <td>51.501905</td>\n",
       "      <td>-0.438831</td>\n",
       "      <td>GBR</td>\n",
       "      <td>89195d364cfffff</td>\n",
       "      <td>51.500871</td>\n",
       "      <td>-0.439667</td>\n",
       "    </tr>\n",
       "    <tr>\n",
       "      <th>960029</th>\n",
       "      <td>1556607600000</td>\n",
       "      <td>51.533891</td>\n",
       "      <td>-0.122029</td>\n",
       "      <td>GBR</td>\n",
       "      <td>89195da4d83ffff</td>\n",
       "      <td>51.534471</td>\n",
       "      <td>-0.122980</td>\n",
       "    </tr>\n",
       "  </tbody>\n",
       "</table>\n",
       "</div>"
      ],
      "text/plain": [
       "             timestamp   latitude  longitude country             hex9  \\\n",
       "148775   1554141600000  51.399067  -0.172851     GBR  89194ac368fffff   \n",
       "6954160  1554307200000  51.558666  -0.380353     GBR  89195daea5bffff   \n",
       "3732401  1555056000000  51.485600  -0.070400     GBR  89194ad06d3ffff   \n",
       "6886908  1555041600000  51.501905  -0.438831     GBR  89195d364cfffff   \n",
       "960029   1556607600000  51.533891  -0.122029     GBR  89195da4d83ffff   \n",
       "\n",
       "          hex9_lat  hex9_lon  \n",
       "148775   51.399517 -0.173475  \n",
       "6954160  51.559407 -0.381898  \n",
       "3732401  51.486487 -0.071413  \n",
       "6886908  51.500871 -0.439667  \n",
       "960029   51.534471 -0.122980  "
      ]
     },
     "execution_count": 12,
     "metadata": {},
     "output_type": "execute_result"
    }
   ],
   "source": [
    "# not showing deviceId for data protection reasons\n",
    "gps_in_london_hex.loc[:, gps_in_london_hex.columns!='deviceId'].sample(5)"
   ]
  },
  {
   "cell_type": "code",
   "execution_count": 13,
   "metadata": {},
   "outputs": [],
   "source": [
    "# select the hex size to work\n",
    "APERTURE_SIZE = 9\n",
    "hex_col = 'hex' + str(APERTURE_SIZE)"
   ]
  },
  {
   "cell_type": "markdown",
   "metadata": {},
   "source": [
    "## Total"
   ]
  },
  {
   "cell_type": "markdown",
   "metadata": {},
   "source": [
    "### store gps density for all hexagons within the boundary"
   ]
  },
  {
   "cell_type": "code",
   "execution_count": 14,
   "metadata": {},
   "outputs": [],
   "source": [
    "# store gps density for each hex\n",
    "gps_hex_density = gps_in_london_hex.groupby(hex_col).size().to_frame('total_gps_cnt').reset_index()"
   ]
  },
  {
   "cell_type": "code",
   "execution_count": 15,
   "metadata": {},
   "outputs": [
    {
     "data": {
      "text/html": [
       "<div>\n",
       "<style scoped>\n",
       "    .dataframe tbody tr th:only-of-type {\n",
       "        vertical-align: middle;\n",
       "    }\n",
       "\n",
       "    .dataframe tbody tr th {\n",
       "        vertical-align: top;\n",
       "    }\n",
       "\n",
       "    .dataframe thead th {\n",
       "        text-align: right;\n",
       "    }\n",
       "</style>\n",
       "<table border=\"1\" class=\"dataframe\">\n",
       "  <thead>\n",
       "    <tr style=\"text-align: right;\">\n",
       "      <th></th>\n",
       "      <th>hex9</th>\n",
       "      <th>total_gps_cnt</th>\n",
       "    </tr>\n",
       "  </thead>\n",
       "  <tbody>\n",
       "    <tr>\n",
       "      <th>3415</th>\n",
       "      <td>89194ad3067ffff</td>\n",
       "      <td>32304</td>\n",
       "    </tr>\n",
       "    <tr>\n",
       "      <th>3723</th>\n",
       "      <td>89194ad36a7ffff</td>\n",
       "      <td>31292</td>\n",
       "    </tr>\n",
       "    <tr>\n",
       "      <th>12538</th>\n",
       "      <td>89195da4d07ffff</td>\n",
       "      <td>29594</td>\n",
       "    </tr>\n",
       "    <tr>\n",
       "      <th>12370</th>\n",
       "      <td>89195da4987ffff</td>\n",
       "      <td>26739</td>\n",
       "    </tr>\n",
       "    <tr>\n",
       "      <th>3708</th>\n",
       "      <td>89194ad3663ffff</td>\n",
       "      <td>24825</td>\n",
       "    </tr>\n",
       "  </tbody>\n",
       "</table>\n",
       "</div>"
      ],
      "text/plain": [
       "                  hex9  total_gps_cnt\n",
       "3415   89194ad3067ffff          32304\n",
       "3723   89194ad36a7ffff          31292\n",
       "12538  89195da4d07ffff          29594\n",
       "12370  89195da4987ffff          26739\n",
       "3708   89194ad3663ffff          24825"
      ]
     },
     "execution_count": 15,
     "metadata": {},
     "output_type": "execute_result"
    }
   ],
   "source": [
    "gps_hex_density.sort_values(by='total_gps_cnt', ascending=False).head()"
   ]
  },
  {
   "cell_type": "code",
   "execution_count": 16,
   "metadata": {},
   "outputs": [
    {
     "data": {
      "text/plain": [
       "16382"
      ]
     },
     "execution_count": 16,
     "metadata": {},
     "output_type": "execute_result"
    }
   ],
   "source": [
    "len(gps_hex_density)"
   ]
  },
  {
   "cell_type": "markdown",
   "metadata": {},
   "source": [
    "### load boundary hex "
   ]
  },
  {
   "cell_type": "code",
   "execution_count": 17,
   "metadata": {},
   "outputs": [],
   "source": [
    "all_hexagons_df = pd.read_csv('../data output/0 london_boundary_hex9_list.csv')"
   ]
  },
  {
   "cell_type": "code",
   "execution_count": 18,
   "metadata": {},
   "outputs": [
    {
     "data": {
      "text/html": [
       "<div>\n",
       "<style scoped>\n",
       "    .dataframe tbody tr th:only-of-type {\n",
       "        vertical-align: middle;\n",
       "    }\n",
       "\n",
       "    .dataframe tbody tr th {\n",
       "        vertical-align: top;\n",
       "    }\n",
       "\n",
       "    .dataframe thead th {\n",
       "        text-align: right;\n",
       "    }\n",
       "</style>\n",
       "<table border=\"1\" class=\"dataframe\">\n",
       "  <thead>\n",
       "    <tr style=\"text-align: right;\">\n",
       "      <th></th>\n",
       "      <th>hex9</th>\n",
       "    </tr>\n",
       "  </thead>\n",
       "  <tbody>\n",
       "    <tr>\n",
       "      <th>0</th>\n",
       "      <td>89195dadc07ffff</td>\n",
       "    </tr>\n",
       "    <tr>\n",
       "      <th>1</th>\n",
       "      <td>89194e6d0a7ffff</td>\n",
       "    </tr>\n",
       "    <tr>\n",
       "      <th>2</th>\n",
       "      <td>89194ac2e7bffff</td>\n",
       "    </tr>\n",
       "    <tr>\n",
       "      <th>3</th>\n",
       "      <td>89194ad5c93ffff</td>\n",
       "    </tr>\n",
       "    <tr>\n",
       "      <th>4</th>\n",
       "      <td>89194ad2473ffff</td>\n",
       "    </tr>\n",
       "  </tbody>\n",
       "</table>\n",
       "</div>"
      ],
      "text/plain": [
       "              hex9\n",
       "0  89195dadc07ffff\n",
       "1  89194e6d0a7ffff\n",
       "2  89194ac2e7bffff\n",
       "3  89194ad5c93ffff\n",
       "4  89194ad2473ffff"
      ]
     },
     "execution_count": 18,
     "metadata": {},
     "output_type": "execute_result"
    }
   ],
   "source": [
    "all_hexagons_df.head()"
   ]
  },
  {
   "cell_type": "code",
   "execution_count": 19,
   "metadata": {},
   "outputs": [],
   "source": [
    "# merge them with the dataframe that contains all hexagons of boundary\n",
    "df_all_hex = pd.merge(gps_hex_density, all_hexagons_df, how='right', on=hex_col)\n",
    "df_all_hex.fillna(0,inplace=True)\n",
    "df_all_hex['total_gps_cnt'] = df_all_hex['total_gps_cnt'].astype(int)"
   ]
  },
  {
   "cell_type": "code",
   "execution_count": 20,
   "metadata": {},
   "outputs": [
    {
     "data": {
      "text/plain": [
       "17047"
      ]
     },
     "execution_count": 20,
     "metadata": {},
     "output_type": "execute_result"
    }
   ],
   "source": [
    "len(df_all_hex)"
   ]
  },
  {
   "cell_type": "code",
   "execution_count": 21,
   "metadata": {},
   "outputs": [
    {
     "data": {
      "text/html": [
       "<div>\n",
       "<style scoped>\n",
       "    .dataframe tbody tr th:only-of-type {\n",
       "        vertical-align: middle;\n",
       "    }\n",
       "\n",
       "    .dataframe tbody tr th {\n",
       "        vertical-align: top;\n",
       "    }\n",
       "\n",
       "    .dataframe thead th {\n",
       "        text-align: right;\n",
       "    }\n",
       "</style>\n",
       "<table border=\"1\" class=\"dataframe\">\n",
       "  <thead>\n",
       "    <tr style=\"text-align: right;\">\n",
       "      <th></th>\n",
       "      <th>hex9</th>\n",
       "      <th>total_gps_cnt</th>\n",
       "    </tr>\n",
       "  </thead>\n",
       "  <tbody>\n",
       "    <tr>\n",
       "      <th>0</th>\n",
       "      <td>89194ac0003ffff</td>\n",
       "      <td>190</td>\n",
       "    </tr>\n",
       "    <tr>\n",
       "      <th>1</th>\n",
       "      <td>89194ac0007ffff</td>\n",
       "      <td>42</td>\n",
       "    </tr>\n",
       "    <tr>\n",
       "      <th>2</th>\n",
       "      <td>89194ac000bffff</td>\n",
       "      <td>207</td>\n",
       "    </tr>\n",
       "    <tr>\n",
       "      <th>3</th>\n",
       "      <td>89194ac000fffff</td>\n",
       "      <td>91</td>\n",
       "    </tr>\n",
       "    <tr>\n",
       "      <th>4</th>\n",
       "      <td>89194ac0013ffff</td>\n",
       "      <td>407</td>\n",
       "    </tr>\n",
       "  </tbody>\n",
       "</table>\n",
       "</div>"
      ],
      "text/plain": [
       "              hex9  total_gps_cnt\n",
       "0  89194ac0003ffff            190\n",
       "1  89194ac0007ffff             42\n",
       "2  89194ac000bffff            207\n",
       "3  89194ac000fffff             91\n",
       "4  89194ac0013ffff            407"
      ]
     },
     "execution_count": 21,
     "metadata": {},
     "output_type": "execute_result"
    }
   ],
   "source": [
    "df_all_hex.head()"
   ]
  },
  {
   "cell_type": "markdown",
   "metadata": {},
   "source": [
    "### save it as csv "
   ]
  },
  {
   "cell_type": "code",
   "execution_count": 22,
   "metadata": {},
   "outputs": [],
   "source": [
    "# df_all_hex.to_csv('../data output/6 london_boundary_hex9_total_gps.csv', index=False)"
   ]
  }
 ],
 "metadata": {
  "kernelspec": {
   "display_name": "Python 3",
   "language": "python",
   "name": "python3"
  },
  "language_info": {
   "codemirror_mode": {
    "name": "ipython",
    "version": 3
   },
   "file_extension": ".py",
   "mimetype": "text/x-python",
   "name": "python",
   "nbconvert_exporter": "python",
   "pygments_lexer": "ipython3",
   "version": "3.7.3"
  }
 },
 "nbformat": 4,
 "nbformat_minor": 2
}
